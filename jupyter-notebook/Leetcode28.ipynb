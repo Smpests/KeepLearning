{
  "nbformat": 4,
  "nbformat_minor": 0,
  "metadata": {
    "colab": {
      "provenance": [],
      "toc_visible": true,
      "authorship_tag": "ABX9TyMvvZANphwQJgYZS2u3cGeX",
      "include_colab_link": true
    },
    "kernelspec": {
      "name": "python3",
      "display_name": "Python 3"
    },
    "language_info": {
      "name": "python"
    }
  },
  "cells": [
    {
      "cell_type": "markdown",
      "metadata": {
        "id": "view-in-github",
        "colab_type": "text"
      },
      "source": [
        "<a href=\"https://colab.research.google.com/github/Smpests/KeepLearning/blob/master/jupyter-notebook/Leetcode28.ipynb\" target=\"_parent\"><img src=\"https://colab.research.google.com/assets/colab-badge.svg\" alt=\"Open In Colab\"/></a>"
      ]
    },
    {
      "cell_type": "markdown",
      "source": [
        "[Leetcode28. 找出字符串中第一个匹配项的下标](https://leetcode.cn/problems/find-the-index-of-the-first-occurrence-in-a-string/)"
      ],
      "metadata": {
        "id": "B-hSNlejDCkg"
      }
    },
    {
      "cell_type": "code",
      "execution_count": 36,
      "metadata": {
        "colab": {
          "base_uri": "https://localhost:8080/"
        },
        "id": "nvjHntO_CrCZ",
        "outputId": "b7b391a1-20be-425c-86bd-ddf495d3ef94"
      },
      "outputs": [
        {
          "output_type": "stream",
          "name": "stdout",
          "text": [
            "-1\n"
          ]
        }
      ],
      "source": [
        "# 字符串子串匹配用KMP算法，尽力理解，难\n",
        "class Solution(object):\n",
        "  def strStr(self, haystack, needle):\n",
        "    \"\"\"\n",
        "    :type haystack: str\n",
        "    :type needle: str\n",
        "    :rtype: int\n",
        "    \"\"\"\n",
        "    return self.indexOf(haystack, needle)\n",
        "  \n",
        "  def buildNext(self, needle):\n",
        "    length = len(needle)\n",
        "    # 初始状态0\n",
        "    state = 0\n",
        "    # 循环前就设定0状态时的状态转移方式\n",
        "    # 可能字符256个\n",
        "    # 下面这句之前写的是dp = [[0] * 256] * length，赋值总不对，想半天去搜才解决\n",
        "    dp = [[0] * 256 for i in range(length)] \n",
        "    dp[state][ord(needle[0])] = 1\n",
        "    # 字符串遍历起始位置，上面已经设定过0号位字符的状态转移\n",
        "    # 因为0状态时只有在haystack串中遇见needle[0]才进入1状态，\n",
        "    # 其余不匹配的字符均回到0状态\n",
        "    for charIndex in range(1, length):\n",
        "      for code in range(256):\n",
        "        # 设置在needle串的当前索引（也即当前状态），后面遇见的所有字符应该转移到的状态\n",
        "        # 初始化为dp当前状态遇见各字符的转移\n",
        "        dp[charIndex][code] = dp[state][code]\n",
        "      # 转态只有在下一字符是匹配串的下一字符时递进\n",
        "      dp[charIndex][ord(needle[charIndex])] = charIndex + 1\n",
        "      # 更新当前所处状态为前一状态遇见当前字符的转移状态\n",
        "      # 相同字符state会变，不同字符state会变成0？\n",
        "      state = dp[state][ord(needle[charIndex])]\n",
        "      \n",
        "    return dp\n",
        "\n",
        "  def indexOf(self, haystack, needle):\n",
        "    next = self.buildNext(needle)\n",
        "    h_length = len(haystack)\n",
        "    n_length = len(needle)\n",
        "    needle_index = 0\n",
        "    for index in range(h_length):\n",
        "      needle_index = next[needle_index][ord(haystack[index])]\n",
        "      if needle_index == n_length:\n",
        "        return index - n_length + 1\n",
        "    return -1\n",
        "\n",
        "# test\n",
        "matcher = Solution()\n",
        "print(matcher.strStr(\"abbcbc\", \"abc\"))"
      ]
    }
  ]
}