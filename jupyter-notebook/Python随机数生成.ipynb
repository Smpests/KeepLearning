{
  "nbformat": 4,
  "nbformat_minor": 0,
  "metadata": {
    "colab": {
      "provenance": [],
      "authorship_tag": "ABX9TyOshdsxuL/e20YpkPVoAKNc",
      "include_colab_link": true
    },
    "kernelspec": {
      "name": "python3",
      "display_name": "Python 3"
    },
    "language_info": {
      "name": "python"
    }
  },
  "cells": [
    {
      "cell_type": "markdown",
      "metadata": {
        "id": "view-in-github",
        "colab_type": "text"
      },
      "source": [
        "<a href=\"https://colab.research.google.com/github/Smpests/KeepLearning/blob/master/jupyter-notebook/Python%E9%9A%8F%E6%9C%BA%E6%95%B0%E7%94%9F%E6%88%90.ipynb\" target=\"_parent\"><img src=\"https://colab.research.google.com/assets/colab-badge.svg\" alt=\"Open In Colab\"/></a>"
      ]
    },
    {
      "cell_type": "code",
      "execution_count": null,
      "metadata": {
        "colab": {
          "base_uri": "https://localhost:8080/"
        },
        "id": "lKLFKOQyh732",
        "outputId": "dbdb7179-dcb3-4e48-cdfb-e65ccd7573da"
      },
      "outputs": [
        {
          "output_type": "execute_result",
          "data": {
            "text/plain": [
              "0.5508266732586636"
            ]
          },
          "metadata": {},
          "execution_count": 3
        }
      ],
      "source": [
        "import random\n",
        "\n",
        "# 生成[0, 1)之间的随机小数\n",
        "random.random()"
      ]
    },
    {
      "cell_type": "code",
      "source": [
        "# 生成[a, b]或者[b, a]之间的随机浮点数\n",
        "print(random.uniform(0, 10))\n",
        "print(random.uniform(10, 0))"
      ],
      "metadata": {
        "colab": {
          "base_uri": "https://localhost:8080/"
        },
        "id": "1WOP7D_8jgDj",
        "outputId": "8338d868-54f0-462c-d220-083e36fd7c23"
      },
      "execution_count": null,
      "outputs": [
        {
          "output_type": "stream",
          "name": "stdout",
          "text": [
            "5.8554094934363\n",
            "0.9170827020260646\n"
          ]
        }
      ]
    },
    {
      "cell_type": "code",
      "source": [
        "# 生成[a, b]或[b, a]之间的随机整数\n",
        "print(random.randint(-10, 10))"
      ],
      "metadata": {
        "colab": {
          "base_uri": "https://localhost:8080/"
        },
        "id": "C1jpFPy4jgP4",
        "outputId": "d4dc432c-95ad-4297-be08-9deb1e7e4449"
      },
      "execution_count": null,
      "outputs": [
        {
          "output_type": "stream",
          "name": "stdout",
          "text": [
            "-2\n"
          ]
        }
      ]
    },
    {
      "cell_type": "code",
      "source": [
        "# 对序列的原地随机乱序\n",
        "l = [1, 2, 3, 4, 5]\n",
        "# 元组和字符串不可变，不支持乱序\n",
        "t = (6, 7, 8, 9, 10)\n",
        "s = \"abcde\"\n",
        "random.shuffle(l)\n",
        "print(l)\n",
        "# print(random.shuffle(t))\n",
        "# print(random.shuffle(s))"
      ],
      "metadata": {
        "colab": {
          "base_uri": "https://localhost:8080/"
        },
        "id": "lxOF-AQUjgTO",
        "outputId": "dc276537-3335-42b6-bf85-8625bf0316df"
      },
      "execution_count": null,
      "outputs": [
        {
          "output_type": "stream",
          "name": "stdout",
          "text": [
            "[2, 3, 4, 5, 1]\n"
          ]
        }
      ]
    },
    {
      "cell_type": "code",
      "source": [
        "# 在非空序列中随机选取一个元素\n",
        "print(random.choice(l))"
      ],
      "metadata": {
        "id": "Yn1nrmZwl2ux",
        "colab": {
          "base_uri": "https://localhost:8080/"
        },
        "outputId": "01222eac-7d57-4177-a87c-7380818996ba"
      },
      "execution_count": 16,
      "outputs": [
        {
          "output_type": "stream",
          "name": "stdout",
          "text": [
            "2\n"
          ]
        }
      ]
    },
    {
      "cell_type": "code",
      "source": [
        "# 从总体中随机抽取k个样本（无放回）\n",
        "# 举例：从装有5个小球的袋子里每次取出一个，直到取完\n",
        "print(random.sample(l, 1))\n",
        "# 一次取出4个，不会重复\n",
        "print(random.sample(l, 4))"
      ],
      "metadata": {
        "colab": {
          "base_uri": "https://localhost:8080/"
        },
        "id": "F2MpoSoNq6k2",
        "outputId": "ba0e111e-9391-44b3-ca0d-d0b89d540346"
      },
      "execution_count": 19,
      "outputs": [
        {
          "output_type": "stream",
          "name": "stdout",
          "text": [
            "[3]\n",
            "[1, 2, 3, 5]\n"
          ]
        }
      ]
    }
  ]
}