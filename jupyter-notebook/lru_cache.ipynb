{
  "nbformat": 4,
  "nbformat_minor": 0,
  "metadata": {
    "colab": {
      "provenance": [],
      "authorship_tag": "ABX9TyPsZ7Y+R270kFt5pHidZuKP",
      "include_colab_link": true
    },
    "kernelspec": {
      "name": "python3",
      "display_name": "Python 3"
    },
    "language_info": {
      "name": "python"
    }
  },
  "cells": [
    {
      "cell_type": "markdown",
      "metadata": {
        "id": "view-in-github",
        "colab_type": "text"
      },
      "source": [
        "<a href=\"https://colab.research.google.com/github/Smpests/KeepLearning/blob/master/jupyter-notebook/lru_cache.ipynb\" target=\"_parent\"><img src=\"https://colab.research.google.com/assets/colab-badge.svg\" alt=\"Open In Colab\"/></a>"
      ]
    },
    {
      "cell_type": "code",
      "execution_count": 11,
      "metadata": {
        "colab": {
          "base_uri": "https://localhost:8080/"
        },
        "id": "8Vf9hL8kEyuB",
        "outputId": "43ded9d7-24fa-45b4-b148-94399915e2b0"
      },
      "outputs": [
        {
          "output_type": "stream",
          "name": "stdout",
          "text": [
            "3\n",
            "took 0.0010879039764404297 ms\n"
          ]
        }
      ],
      "source": [
        "# 找零99元，面额2,3,5元，问有多少种找零方式。\n",
        "import time\n",
        "from functools import lru_cache\n",
        "\n",
        "\"\"\"\n",
        "不加lru_cache耗时很长。\n",
        "lru_cache作用：内存优化，将函数的参数和结果记录下来，相同的参数直接返回结果不执行过程\n",
        "\"\"\"\n",
        "@lru_cache\n",
        "def change(amount: int) -> int:\n",
        "  if amount == 0:\n",
        "    return 1\n",
        "  if amount < 0:\n",
        "    return 0\n",
        "  return change(amount - 2) + change(amount - 3) + change(amount - 5)\n",
        "\n",
        "start_time = time.time()\n",
        "res = change(5)\n",
        "print(res)\n",
        "print(\"took {} ms\".format(time.time() - start_time))"
      ]
    }
  ]
}