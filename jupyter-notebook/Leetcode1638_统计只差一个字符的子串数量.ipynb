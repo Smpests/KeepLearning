{
  "nbformat": 4,
  "nbformat_minor": 0,
  "metadata": {
    "colab": {
      "provenance": [],
      "authorship_tag": "ABX9TyMe7uUZwgshzTT2BIzTN8N4",
      "include_colab_link": true
    },
    "kernelspec": {
      "name": "python3",
      "display_name": "Python 3"
    },
    "language_info": {
      "name": "python"
    }
  },
  "cells": [
    {
      "cell_type": "markdown",
      "metadata": {
        "id": "view-in-github",
        "colab_type": "text"
      },
      "source": [
        "<a href=\"https://colab.research.google.com/github/Smpests/KeepLearning/blob/master/jupyter-notebook/Leetcode1638_%E7%BB%9F%E8%AE%A1%E5%8F%AA%E5%B7%AE%E4%B8%80%E4%B8%AA%E5%AD%97%E7%AC%A6%E7%9A%84%E5%AD%90%E4%B8%B2%E6%95%B0%E9%87%8F.ipynb\" target=\"_parent\"><img src=\"https://colab.research.google.com/assets/colab-badge.svg\" alt=\"Open In Colab\"/></a>"
      ]
    },
    {
      "cell_type": "markdown",
      "source": [
        "[Leetcode 1638.统计只差一个字符的子串数目](https://leetcode.cn/problems/count-substrings-that-differ-by-one-character/)"
      ],
      "metadata": {
        "id": "V2egw5ATRgRP"
      }
    },
    {
      "cell_type": "code",
      "execution_count": 4,
      "metadata": {
        "colab": {
          "base_uri": "https://localhost:8080/"
        },
        "id": "rArLWpPmMup1",
        "outputId": "a14a4741-1a83-4723-9f51-ec2492be9591"
      },
      "outputs": [
        {
          "output_type": "stream",
          "name": "stdout",
          "text": [
            "6\n"
          ]
        }
      ],
      "source": [
        "class Solution(object):\n",
        "    def countSubstrings(self, s, t):\n",
        "        \"\"\"\n",
        "        :type s: str\n",
        "        :type t: str\n",
        "        :rtype: int\n",
        "        \"\"\"\n",
        "        # 动态长度滑动窗口、枚举，时间复杂度O(n^4)\n",
        "        # 题解有O(n^2)的解法，有些烧脑，算了\n",
        "        count = 0\n",
        "        max_window_size = len(s)\n",
        "        for window_size in range (1, max_window_size + 1):\n",
        "            for i in range(len(s) - window_size + 1):\n",
        "                sub_s = s[i:i + window_size]\n",
        "                for j in range(len(t) - window_size + 1):\n",
        "                    sub_t = t[j:j + window_size]\n",
        "                    diff = 0\n",
        "                    for k in range(window_size):\n",
        "                        if sub_s[k] != sub_t[k]:\n",
        "                            diff += 1\n",
        "                        if diff > 1:\n",
        "                            break\n",
        "                    if diff == 1:\n",
        "                        count += 1\n",
        "        return count\n",
        "\n",
        "solution = Solution()\n",
        "res = solution.countSubstrings(\"aba\", \"baba\")\n",
        "print(res)\n",
        "assert res == 6"
      ]
    }
  ]
}