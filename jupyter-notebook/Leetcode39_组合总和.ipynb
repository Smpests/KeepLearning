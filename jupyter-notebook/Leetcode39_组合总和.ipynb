{
  "nbformat": 4,
  "nbformat_minor": 0,
  "metadata": {
    "colab": {
      "provenance": [],
      "authorship_tag": "ABX9TyOg4Y8tlNH4IpLoF7p7JShH",
      "include_colab_link": true
    },
    "kernelspec": {
      "name": "python3",
      "display_name": "Python 3"
    },
    "language_info": {
      "name": "python"
    }
  },
  "cells": [
    {
      "cell_type": "markdown",
      "metadata": {
        "id": "view-in-github",
        "colab_type": "text"
      },
      "source": [
        "<a href=\"https://colab.research.google.com/github/Smpests/KeepLearning/blob/master/jupyter-notebook/Leetcode39_%E7%BB%84%E5%90%88%E6%80%BB%E5%92%8C.ipynb\" target=\"_parent\"><img src=\"https://colab.research.google.com/assets/colab-badge.svg\" alt=\"Open In Colab\"/></a>"
      ]
    },
    {
      "cell_type": "markdown",
      "source": [
        "[Leetcode 39.组合总和](https://leetcode.cn/problems/combination-sum/)"
      ],
      "metadata": {
        "id": "7rkbHKJoI6V_"
      }
    },
    {
      "cell_type": "code",
      "execution_count": 1,
      "metadata": {
        "colab": {
          "base_uri": "https://localhost:8080/"
        },
        "id": "PWkA2m3DI1xr",
        "outputId": "92174b22-5c4b-41e7-d6c3-1916762cf1fb"
      },
      "outputs": [
        {
          "output_type": "stream",
          "name": "stdout",
          "text": [
            "[[2, 2, 2, 2], [2, 3, 3], [3, 5]]\n"
          ]
        }
      ],
      "source": [
        "from typing import List\n",
        "\n",
        "class Solution:\n",
        "    def __init__(self):\n",
        "        self.result = []\n",
        "        self.answer = []\n",
        "\n",
        "    def combinationSum(self, candidates: List[int], target: int) -> List[List[int]]:\n",
        "        # 很像有2、3、5元面额，问找零99元有几种找法，因此第一个思路是仿写\n",
        "        # 看了题解写的，思路基本一致，就是自己写不出来code\n",
        "        candidates.sort()\n",
        "        self.candidates = candidates\n",
        "        self.size = len(candidates)\n",
        "        self.backtrace(target, 0)\n",
        "        return self.result\n",
        "\n",
        "    def backtrace(self, target: int, index: int):\n",
        "        if target == 0:\n",
        "            # 需要添加的list是新建的，否则值会变\n",
        "            # 在往容器里添加一个重复使用的可变对象时都需要注意\n",
        "            self.result.append(self.answer[:])\n",
        "            return\n",
        "        for i in range(index, self.size):\n",
        "            # 起排序后的剪枝作用，不够减，则后面更大的数也不够减\n",
        "            remain = target - self.candidates[i]\n",
        "            if remain < 0:\n",
        "                break\n",
        "            self.answer.append(self.candidates[i])\n",
        "            self.backtrace(target - self.candidates[i], i)\n",
        "            # 回到本层时要移除添加的元素\n",
        "            # 因为return只有两种情况：\n",
        "            # 一是找到答案，找到答案则整条调用链路上添加的值都应该移除（清空后枚举新答案）\n",
        "            # 而是该链路上无解，同理\n",
        "            self.answer.pop()\n",
        "res = Solution().combinationSum([2,3,5], 8)\n",
        "print(res)\n",
        "assert res == [[2,2,2,2],[2,3,3],[3,5]]"
      ]
    }
  ]
}