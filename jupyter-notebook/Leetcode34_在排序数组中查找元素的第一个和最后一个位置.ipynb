{
  "nbformat": 4,
  "nbformat_minor": 0,
  "metadata": {
    "colab": {
      "provenance": [],
      "authorship_tag": "ABX9TyNeXwQbJYJ8RLX9/twualGn",
      "include_colab_link": true
    },
    "kernelspec": {
      "name": "python3",
      "display_name": "Python 3"
    },
    "language_info": {
      "name": "python"
    }
  },
  "cells": [
    {
      "cell_type": "markdown",
      "metadata": {
        "id": "view-in-github",
        "colab_type": "text"
      },
      "source": [
        "<a href=\"https://colab.research.google.com/github/Smpests/KeepLearning/blob/master/jupyter-notebook/Leetcode34_%E5%9C%A8%E6%8E%92%E5%BA%8F%E6%95%B0%E7%BB%84%E4%B8%AD%E6%9F%A5%E6%89%BE%E5%85%83%E7%B4%A0%E7%9A%84%E7%AC%AC%E4%B8%80%E4%B8%AA%E5%92%8C%E6%9C%80%E5%90%8E%E4%B8%80%E4%B8%AA%E4%BD%8D%E7%BD%AE.ipynb\" target=\"_parent\"><img src=\"https://colab.research.google.com/assets/colab-badge.svg\" alt=\"Open In Colab\"/></a>"
      ]
    },
    {
      "cell_type": "markdown",
      "source": [
        "[Leetcode 34. 在排序数组中查找元素的第一个和最后一个位置](https://leetcode.cn/problems/find-first-and-last-position-of-element-in-sorted-array/)"
      ],
      "metadata": {
        "id": "VzvrmJyYOzqQ"
      }
    },
    {
      "cell_type": "code",
      "execution_count": 2,
      "metadata": {
        "colab": {
          "base_uri": "https://localhost:8080/"
        },
        "id": "2mxMKVkJOzJJ",
        "outputId": "4ba11581-025b-4c0d-a0a0-83a858872239"
      },
      "outputs": [
        {
          "output_type": "stream",
          "name": "stdout",
          "text": [
            "[4, 5]\n"
          ]
        }
      ],
      "source": [
        "class Solution(object):\n",
        "    def searchRange(self, nums, target):\n",
        "        \"\"\"\n",
        "        :type nums: List[int]\n",
        "        :type target: int\n",
        "        :rtype: List[int]\n",
        "        \"\"\"\n",
        "        left = 0\n",
        "        right = len(nums) - 1\n",
        "        # 每次循环移动两次，O（logn）\n",
        "        while left <= right:\n",
        "            if nums[left] == target and nums[right] == target:\n",
        "                return [left, right]\n",
        "            if target > nums[left]:\n",
        "                left += 1\n",
        "            if target < nums[right]:\n",
        "                right -= 1\n",
        "        return [-1, -1]\n",
        "\n",
        "solution = Solution()\n",
        "res = solution.searchRange([1, 2, 3, 4, 8, 8, 9], 8)\n",
        "print(res)\n",
        "assert res == [4, 5]"
      ]
    }
  ]
}