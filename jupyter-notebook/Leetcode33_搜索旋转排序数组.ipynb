{
  "nbformat": 4,
  "nbformat_minor": 0,
  "metadata": {
    "colab": {
      "provenance": [],
      "authorship_tag": "ABX9TyPJRIAnuCMN1Ycuh0k3Ox5Q",
      "include_colab_link": true
    },
    "kernelspec": {
      "name": "python3",
      "display_name": "Python 3"
    },
    "language_info": {
      "name": "python"
    }
  },
  "cells": [
    {
      "cell_type": "markdown",
      "metadata": {
        "id": "view-in-github",
        "colab_type": "text"
      },
      "source": [
        "<a href=\"https://colab.research.google.com/github/Smpests/KeepLearning/blob/master/jupyter-notebook/Leetcode33_%E6%90%9C%E7%B4%A2%E6%97%8B%E8%BD%AC%E6%8E%92%E5%BA%8F%E6%95%B0%E7%BB%84.ipynb\" target=\"_parent\"><img src=\"https://colab.research.google.com/assets/colab-badge.svg\" alt=\"Open In Colab\"/></a>"
      ]
    },
    {
      "cell_type": "markdown",
      "source": [
        "[Leetcode 33.搜索旋转排序数组](https://leetcode.cn/problems/search-in-rotated-sorted-array/)"
      ],
      "metadata": {
        "id": "Df-gO8DM7vUE"
      }
    },
    {
      "cell_type": "code",
      "execution_count": 1,
      "metadata": {
        "colab": {
          "base_uri": "https://localhost:8080/"
        },
        "id": "TLmtnYQN7u1r",
        "outputId": "74540532-e704-4646-a829-54078e1aa98e"
      },
      "outputs": [
        {
          "output_type": "stream",
          "name": "stdout",
          "text": [
            "4\n"
          ]
        }
      ],
      "source": [
        "class Solution(object):\n",
        "    # 时间复杂度：O(n),不符合\n",
        "    def search_slow(self, nums, target):\n",
        "        \"\"\"\n",
        "        :type nums: List[int]\n",
        "        :type target: int\n",
        "        :rtype: int\n",
        "        \"\"\"\n",
        "        if target >= nums[0]:\n",
        "            last = nums[0]\n",
        "            for i in range(len(nums)):\n",
        "                if nums[i] < last:\n",
        "                    break\n",
        "                if nums[i] == target:\n",
        "                    return i\n",
        "                last = nums[i]\n",
        "            return -1\n",
        "        else:\n",
        "            last = nums[-1]\n",
        "            for i in range(len(nums) - 1, -1, -1):\n",
        "                if nums[i] > last:\n",
        "                    break\n",
        "                if nums[i] == target:\n",
        "                    return i\n",
        "                last = nums[i]\n",
        "            return -1\n",
        "    \n",
        "    def search(self, nums, target):\n",
        "        \"\"\"\n",
        "        :type nums: List[int]\n",
        "        :type target: int\n",
        "        :rtyp\n",
        "        \"\"\"\n",
        "        high = len(nums) - 1\n",
        "        low = 0\n",
        "        while low <= high:\n",
        "            mid = (low + high) // 2\n",
        "\n",
        "            if nums[mid] == target:\n",
        "                return mid\n",
        "            # k点在mid右侧的情况\n",
        "            if nums[low] <= nums[mid]:\n",
        "                if target == nums[low]:\n",
        "                    return low\n",
        "                if target == nums[high]:\n",
        "                    return high\n",
        "                if target > nums[low] and target < nums[mid]:\n",
        "                    high = mid - 1\n",
        "                else:\n",
        "                    low = mid + 1\n",
        "            # k点在mid左侧的情况\n",
        "            else:\n",
        "                if target == nums[low]:\n",
        "                    return low\n",
        "                if target == nums[high]:\n",
        "                    return high\n",
        "                if target > nums[mid] and target < nums[high]:\n",
        "                    low = mid + 1\n",
        "                else:\n",
        "                    high = mid - 1\n",
        "        return -1\n",
        "\n",
        "solution = Solution()\n",
        "res = solution.search([4,5,6,7,0,1,2], 0)\n",
        "print(res)\n",
        "assert res == 4"
      ]
    }
  ]
}