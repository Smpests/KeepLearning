{
  "nbformat": 4,
  "nbformat_minor": 0,
  "metadata": {
    "colab": {
      "provenance": [],
      "authorship_tag": "ABX9TyOjAEr3bi4cHN2SqtDdPcVt",
      "include_colab_link": true
    },
    "kernelspec": {
      "name": "python3",
      "display_name": "Python 3"
    },
    "language_info": {
      "name": "python"
    }
  },
  "cells": [
    {
      "cell_type": "markdown",
      "metadata": {
        "id": "view-in-github",
        "colab_type": "text"
      },
      "source": [
        "<a href=\"https://colab.research.google.com/github/Smpests/KeepLearning/blob/master/jupyter-notebook/Leetcode32_%E6%9C%80%E9%95%BF%E6%9C%89%E6%95%88%E6%8B%AC%E5%8F%B7.ipynb\" target=\"_parent\"><img src=\"https://colab.research.google.com/assets/colab-badge.svg\" alt=\"Open In Colab\"/></a>"
      ]
    },
    {
      "cell_type": "markdown",
      "source": [
        "[Leetcode32.最长有效括号](https://leetcode.cn/problems/longest-valid-parentheses/)"
      ],
      "metadata": {
        "id": "5Q030nt5ZtNO"
      }
    },
    {
      "cell_type": "code",
      "execution_count": 2,
      "metadata": {
        "colab": {
          "base_uri": "https://localhost:8080/"
        },
        "id": "9uKiqf_oZomc",
        "outputId": "0ac339ed-8b87-4621-c26c-aac133aeda34"
      },
      "outputs": [
        {
          "output_type": "stream",
          "name": "stdout",
          "text": [
            "4\n"
          ]
        }
      ],
      "source": [
        "class Solution(object):\n",
        "    def longestValidParentheses(self, s):\n",
        "        \"\"\"\n",
        "        :type s: str\n",
        "        :rtype: int\n",
        "        \"\"\"\n",
        "        if len(s) < 2:\n",
        "            return 0\n",
        "        stack = []\n",
        "        # 栈内元素在字符串中的索引位置\n",
        "        stack_pos = []\n",
        "        # 左边界\n",
        "        stack_pos.append(-1)\n",
        "        for i in range(len(s)):\n",
        "            ch = s[i]\n",
        "            if  len(stack) > 0 :\n",
        "                if stack[-1] == '(' and ch == ')':\n",
        "                    stack.pop()\n",
        "                    stack_pos.pop()\n",
        "                else:\n",
        "                    stack.append(ch)\n",
        "                    stack_pos.append(i)\n",
        "            else:\n",
        "                stack.append(ch)\n",
        "                stack_pos.append(i)\n",
        "        if len(stack) == len(s):\n",
        "            return  0\n",
        "        # 找pos数组中相距最远的距离是多少\n",
        "        # 右边界\n",
        "        stack_pos.append(len(s))\n",
        "        distance = [stack_pos[i] - stack_pos[i - 1] for i in range(1, len(stack_pos))]\n",
        "        return max(distance) - 1\n",
        "\n",
        "solution = Solution()\n",
        "res = solution.longestValidParentheses(\")()())\")\n",
        "print(res)\n",
        "assert res == 4"
      ]
    }
  ]
}