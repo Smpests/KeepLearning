{
  "nbformat": 4,
  "nbformat_minor": 0,
  "metadata": {
    "colab": {
      "provenance": [],
      "authorship_tag": "ABX9TyOYjmKVcqWEygrh/AlbPW5l",
      "include_colab_link": true
    },
    "kernelspec": {
      "name": "python3",
      "display_name": "Python 3"
    },
    "language_info": {
      "name": "python"
    }
  },
  "cells": [
    {
      "cell_type": "markdown",
      "metadata": {
        "id": "view-in-github",
        "colab_type": "text"
      },
      "source": [
        "<a href=\"https://colab.research.google.com/github/Smpests/KeepLearning/blob/master/jupyter-notebook/Leetcode2395_%E5%92%8C%E7%9B%B8%E7%AD%89%E7%9A%84%E5%AD%90%E6%95%B0%E7%BB%84.ipynb\" target=\"_parent\"><img src=\"https://colab.research.google.com/assets/colab-badge.svg\" alt=\"Open In Colab\"/></a>"
      ]
    },
    {
      "cell_type": "markdown",
      "source": [
        "[leetcode2395.和相等的子数组](https://leetcode.cn/problems/find-subarrays-with-equal-sum/)"
      ],
      "metadata": {
        "id": "Y2Y2oJ84T_tP"
      }
    },
    {
      "cell_type": "code",
      "execution_count": 3,
      "metadata": {
        "colab": {
          "base_uri": "https://localhost:8080/"
        },
        "id": "V1ShwS8ST3p2",
        "outputId": "67f9a045-73e8-41e2-9c77-e2d936dc4419"
      },
      "outputs": [
        {
          "output_type": "stream",
          "name": "stdout",
          "text": [
            "False\n"
          ]
        }
      ],
      "source": [
        "class Solution(object):\n",
        "  def findSubarrays(self, nums):\n",
        "    \"\"\"\n",
        "    :type nums: List[int]\n",
        "    :rtype: bool\n",
        "    \"\"\"\n",
        "    groups = [nums[i:i + 2] for i in range(len(nums) - 2 + 1)]\n",
        "    sum_set = set()\n",
        "    for g in groups:\n",
        "        if sum(g) in sum_set:\n",
        "            return True\n",
        "        sum_set.add(sum(g))\n",
        "    return False\n",
        "\n",
        "solution = Solution()\n",
        "res = solution.findSubarrays([1,2,3,4,5])\n",
        "print(res)\n",
        "assert res == False"
      ]
    }
  ]
}