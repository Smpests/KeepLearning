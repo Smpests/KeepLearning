{
  "nbformat": 4,
  "nbformat_minor": 0,
  "metadata": {
    "colab": {
      "provenance": [],
      "authorship_tag": "ABX9TyO75P4mrKCrFIkt5bYHesfj",
      "include_colab_link": true
    },
    "kernelspec": {
      "name": "python3",
      "display_name": "Python 3"
    },
    "language_info": {
      "name": "python"
    }
  },
  "cells": [
    {
      "cell_type": "markdown",
      "metadata": {
        "id": "view-in-github",
        "colab_type": "text"
      },
      "source": [
        "<a href=\"https://colab.research.google.com/github/Smpests/KeepLearning/blob/master/jupyter-notebook/Leetcode30_%E4%B8%B2%E8%81%94%E6%89%80%E6%9C%89%E5%8D%95%E8%AF%8D%E7%9A%84%E5%AD%90%E4%B8%B2.ipynb\" target=\"_parent\"><img src=\"https://colab.research.google.com/assets/colab-badge.svg\" alt=\"Open In Colab\"/></a>"
      ]
    },
    {
      "cell_type": "markdown",
      "source": [
        "[Leetcode30.串联所有单词的子串](https://leetcode.cn/problems/substring-with-concatenation-of-all-words/)"
      ],
      "metadata": {
        "id": "eCrUwfqkjmdD"
      }
    },
    {
      "cell_type": "code",
      "execution_count": 4,
      "metadata": {
        "colab": {
          "base_uri": "https://localhost:8080/"
        },
        "id": "WKDWXD4zjiKI",
        "outputId": "21d87823-89ad-4395-90ff-b3493f241571"
      },
      "outputs": [
        {
          "output_type": "stream",
          "name": "stdout",
          "text": [
            "[0, 9]\n"
          ]
        }
      ],
      "source": [
        "class Solution(object):\n",
        "  def findSubstring(self, s, words):\n",
        "    \"\"\"\n",
        "    滑动窗口：因每个词长度相同，每次取word[0].length * words.size()个字符，\n",
        "    然后按word[0].length的固定长度分割，看区间内每个片段是否都在words中\n",
        "    :type s: str\n",
        "    :type words: List[str]\n",
        "    :rtype: List[int]\n",
        "    \"\"\"\n",
        "    result = []\n",
        "    word_dict = dict()\n",
        "    # 提前计算用于使用的值\n",
        "    words_length = len(words)\n",
        "    s_length = len(s)\n",
        "    token_length = len(words[0])\n",
        "    for word in words:\n",
        "      # 数值表示该词出现次数（考虑重复情况）\n",
        "      if word not in word_dict:\n",
        "        word_dict[word] = 1\n",
        "      else:\n",
        "        word_dict[word] += 1\n",
        "    window_size = token_length * words_length\n",
        "    for window_no in range(s_length - window_size + 1):\n",
        "      window_str = s[window_no:window_size + window_no]\n",
        "      window_words = [window_str[i:i + token_length] for i in range(0, window_size, token_length)]\n",
        "      tmp_dict = word_dict.copy()\n",
        "      flag = True\n",
        "      for window_word in window_words:\n",
        "        if window_word in tmp_dict:\n",
        "          if tmp_dict[window_word] > 0:\n",
        "            tmp_dict[window_word] -= 1\n",
        "          else:\n",
        "            flag = False\n",
        "            break\n",
        "        else:\n",
        "          flag = False\n",
        "          break\n",
        "      if flag:\n",
        "        result.append(window_no)\n",
        "    return result\n",
        "\n",
        "solution = Solution()\n",
        "r = solution.findSubstring(\"barfoothefoobarman\", [\"foo\",\"bar\"])\n",
        "print(r)\n",
        "assert r == [0, 9]"
      ]
    }
  ]
}