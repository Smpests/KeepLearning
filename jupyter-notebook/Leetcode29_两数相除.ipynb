{
  "nbformat": 4,
  "nbformat_minor": 0,
  "metadata": {
    "colab": {
      "provenance": [],
      "authorship_tag": "ABX9TyOeGc0jzXUWm55qmf4Vb7mj",
      "include_colab_link": true
    },
    "kernelspec": {
      "name": "python3",
      "display_name": "Python 3"
    },
    "language_info": {
      "name": "python"
    }
  },
  "cells": [
    {
      "cell_type": "markdown",
      "metadata": {
        "id": "view-in-github",
        "colab_type": "text"
      },
      "source": [
        "<a href=\"https://colab.research.google.com/github/Smpests/KeepLearning/blob/master/jupyter-notebook/Leetcode29_%E4%B8%A4%E6%95%B0%E7%9B%B8%E9%99%A4.ipynb\" target=\"_parent\"><img src=\"https://colab.research.google.com/assets/colab-badge.svg\" alt=\"Open In Colab\"/></a>"
      ]
    },
    {
      "cell_type": "markdown",
      "source": [
        "[Leetcode29.两数相除](https://leetcode.cn/problems/divide-two-integers/)"
      ],
      "metadata": {
        "id": "O6VH79FSzH_M"
      }
    },
    {
      "cell_type": "code",
      "execution_count": 1,
      "metadata": {
        "colab": {
          "base_uri": "https://localhost:8080/"
        },
        "id": "H-FvE4ftzGhI",
        "outputId": "75a0517f-8767-45f0-903a-40e00a6a7d58"
      },
      "outputs": [
        {
          "output_type": "execute_result",
          "data": {
            "text/plain": [
              "-2"
            ]
          },
          "metadata": {},
          "execution_count": 1
        }
      ],
      "source": [
        "class Solution(object):\n",
        "    # 速度慢超时限\n",
        "    def divide_slow(self, dividend, divisor):\n",
        "        \"\"\"\n",
        "        :type dividend: int\n",
        "        :type divisor: int\n",
        "        :rtype: int\n",
        "        \"\"\"\n",
        "        # 确定结果正负\n",
        "        is_positive = True\n",
        "        if dividend < 0 and divisor > 0 or dividend > 0 and divisor < 0:\n",
        "            is_positive = False\n",
        "        distance = abs(dividend)\n",
        "        divisor_abs = abs(divisor)\n",
        "        result = 0\n",
        "        while distance - divisor_abs >= 0:\n",
        "            distance -= divisor_abs\n",
        "            result += 1\n",
        "            if result == 2147483647:\n",
        "                break\n",
        "        return result if is_positive else max(-result, -2147483648)\n",
        "\n",
        "    def divide(self, dividend, divisor):\n",
        "        if dividend == 0:\n",
        "            return 0\n",
        "        # 1和-1不进计算\n",
        "        if divisor == 1:\n",
        "            return dividend\n",
        "        if divisor == -1:\n",
        "            if dividend > -2147483648:\n",
        "                return -dividend\n",
        "            return 2147483647\n",
        "        \n",
        "            \n",
        "        # 确定结果正负\n",
        "        is_positive = True\n",
        "        if dividend < 0 and divisor > 0 or dividend > 0 and divisor < 0:\n",
        "            is_positive = False\n",
        "        result = self.traceback(abs(dividend), abs(divisor))\n",
        "        return result if is_positive else -result\n",
        "\n",
        "\n",
        "    # 减法思路\n",
        "    def traceback(self, dividend, divisor):\n",
        "        # 不够减了\n",
        "        if dividend < divisor:\n",
        "            return 0\n",
        "        # 初始倍率\n",
        "        times = 1\n",
        "        tmp_divisor = divisor\n",
        "        # 循环倍增\n",
        "        while tmp_divisor + tmp_divisor < dividend:\n",
        "            # 除数增大一倍，倍率也扩大一倍\n",
        "            times += times\n",
        "            tmp_divisor += tmp_divisor\n",
        "        # 增大到无法再倍增，将剩余的值继续计算\n",
        "        return times + self.traceback(dividend - tmp_divisor, divisor)\n",
        "\n",
        "\n",
        "solution = Solution()\n",
        "solution.divide(7, -3)"
      ]
    }
  ]
}