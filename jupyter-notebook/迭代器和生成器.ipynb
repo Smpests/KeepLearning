{
  "nbformat": 4,
  "nbformat_minor": 0,
  "metadata": {
    "colab": {
      "provenance": [],
      "authorship_tag": "ABX9TyMFyI3XDKCPamKZu8uuBRU0",
      "include_colab_link": true
    },
    "kernelspec": {
      "name": "python3",
      "display_name": "Python 3"
    },
    "language_info": {
      "name": "python"
    }
  },
  "cells": [
    {
      "cell_type": "markdown",
      "metadata": {
        "id": "view-in-github",
        "colab_type": "text"
      },
      "source": [
        "<a href=\"https://colab.research.google.com/github/Smpests/KeepLearning/blob/master/jupyter-notebook/%E8%BF%AD%E4%BB%A3%E5%99%A8%E5%92%8C%E7%94%9F%E6%88%90%E5%99%A8.ipynb\" target=\"_parent\"><img src=\"https://colab.research.google.com/assets/colab-badge.svg\" alt=\"Open In Colab\"/></a>"
      ]
    },
    {
      "cell_type": "code",
      "execution_count": null,
      "metadata": {
        "colab": {
          "base_uri": "https://localhost:8080/"
        },
        "id": "Huoha0v_D9y9",
        "outputId": "a1dce6a8-9c3f-41d4-c954-a8c478dc89a7"
      },
      "outputs": [
        {
          "output_type": "stream",
          "name": "stdout",
          "text": [
            "迭代器：\n",
            "1\n",
            "1\n",
            "2\n",
            "3\n",
            "5\n",
            "8\n",
            "13\n",
            "21\n",
            "34\n",
            "55\n",
            "生成器：\n",
            "1\n",
            "1\n",
            "2\n",
            "3\n",
            "5\n",
            "8\n",
            "13\n",
            "21\n",
            "34\n",
            "55\n"
          ]
        }
      ],
      "source": [
        "# 迭代器，以生成斐波那契数为例\n",
        "class FibIterator:\n",
        "  def __init__(self):\n",
        "    # 初始化，实际上第一个数是1\n",
        "    self.a = 0\n",
        "    self.b = 1\n",
        "  \n",
        "  def __iter__(self):\n",
        "    return self\n",
        "\n",
        "  def __next__(self):\n",
        "    self.a, self.b = self.b, self.a + self.b\n",
        "    return self.a\n",
        "\n",
        "# 通过生成器实现\n",
        "def fibGenerator():\n",
        "  a, b = 0, 1\n",
        "  # 最好在函数内部实现生成次数限制，避免错误调用无限生成\n",
        "  while True:\n",
        "    a, b = b, a + b\n",
        "    yield a\n",
        "\n",
        "\n",
        "fibIterator = FibIterator()\n",
        "print(\"迭代器：\")\n",
        "for i in range(10):\n",
        "  print(next(fibIterator))\n",
        "\n",
        "print(\"生成器：\")\n",
        "generator = fibGenerator()\n",
        "for i in range(10):\n",
        "  print(next(generator))\n",
        "\n"
      ]
    }
  ]
}