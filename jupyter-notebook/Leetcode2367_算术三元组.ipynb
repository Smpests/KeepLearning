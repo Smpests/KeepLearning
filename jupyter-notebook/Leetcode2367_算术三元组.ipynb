{
  "nbformat": 4,
  "nbformat_minor": 0,
  "metadata": {
    "colab": {
      "provenance": [],
      "authorship_tag": "ABX9TyNBmY5vqq7Z9/X2pdIgKqEv",
      "include_colab_link": true
    },
    "kernelspec": {
      "name": "python3",
      "display_name": "Python 3"
    },
    "language_info": {
      "name": "python"
    }
  },
  "cells": [
    {
      "cell_type": "markdown",
      "metadata": {
        "id": "view-in-github",
        "colab_type": "text"
      },
      "source": [
        "<a href=\"https://colab.research.google.com/github/Smpests/KeepLearning/blob/master/jupyter-notebook/Leetcode2367_%E7%AE%97%E6%9C%AF%E4%B8%89%E5%85%83%E7%BB%84.ipynb\" target=\"_parent\"><img src=\"https://colab.research.google.com/assets/colab-badge.svg\" alt=\"Open In Colab\"/></a>"
      ]
    },
    {
      "cell_type": "markdown",
      "source": [
        "[Leetcode 2367.算术三元组](https://leetcode.cn/problems/number-of-arithmetic-triplets/)"
      ],
      "metadata": {
        "id": "irbO6xLKr4Ef"
      }
    },
    {
      "cell_type": "code",
      "execution_count": 2,
      "metadata": {
        "colab": {
          "base_uri": "https://localhost:8080/"
        },
        "id": "0kisHeUUrwDd",
        "outputId": "6aa6459f-691a-4ce7-95c1-fed2e1d60384"
      },
      "outputs": [
        {
          "output_type": "stream",
          "name": "stdout",
          "text": [
            "2\n"
          ]
        }
      ],
      "source": [
        "from typing import List\n",
        "class Solution:\n",
        "    def arithmeticTriplets(self, nums: List[int], diff: int) -> int:\n",
        "        # count = 0\n",
        "        nums_set = set(nums)\n",
        "        # 穷举i，可得j、k\n",
        "        # for num in nums:\n",
        "        #     if num + diff in nums_set and num + diff + diff in nums_set:\n",
        "        #         count += 1\n",
        "        # return count\n",
        "        # 简写，枚举j\n",
        "        return sum([x - diff in nums_set and x + diff in nums_set for x in nums])\n",
        "\n",
        "res = Solution().arithmeticTriplets([0,1,4,6,7,10], 3)\n",
        "print(res)\n",
        "assert res == 2"
      ]
    }
  ]
}