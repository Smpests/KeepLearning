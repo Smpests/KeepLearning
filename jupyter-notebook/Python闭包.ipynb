{
  "nbformat": 4,
  "nbformat_minor": 0,
  "metadata": {
    "colab": {
      "provenance": [],
      "authorship_tag": "ABX9TyP4E2IffLAp7SWWK4VT91l/",
      "include_colab_link": true
    },
    "kernelspec": {
      "name": "python3",
      "display_name": "Python 3"
    },
    "language_info": {
      "name": "python"
    }
  },
  "cells": [
    {
      "cell_type": "markdown",
      "metadata": {
        "id": "view-in-github",
        "colab_type": "text"
      },
      "source": [
        "<a href=\"https://colab.research.google.com/github/Smpests/KeepLearning/blob/master/jupyter-notebook/Python%E9%97%AD%E5%8C%85.ipynb\" target=\"_parent\"><img src=\"https://colab.research.google.com/assets/colab-badge.svg\" alt=\"Open In Colab\"/></a>"
      ]
    },
    {
      "cell_type": "code",
      "source": [
        "\"\"\"\n",
        "闭包，函数嵌套时发生，内部函数使用外部函数的临时变量而不是全局变量。\n",
        "\"\"\"\n",
        "\n",
        "# 闭包使用全局变量\n",
        "\n",
        "g = 1\n",
        "def foo():\n",
        "  def bar():\n",
        "    print(g)\n",
        "    g = 2\n",
        "  bar()\n",
        "\n",
        "foo()"
      ],
      "metadata": {
        "colab": {
          "base_uri": "https://localhost:8080/",
          "height": 364
        },
        "id": "DO_Hw1h65w0y",
        "outputId": "8bf13d39-1d2a-4b99-960e-d849cccdbf79"
      },
      "execution_count": 7,
      "outputs": [
        {
          "output_type": "error",
          "ename": "UnboundLocalError",
          "evalue": "ignored",
          "traceback": [
            "\u001b[0;31m---------------------------------------------------------------------------\u001b[0m",
            "\u001b[0;31mUnboundLocalError\u001b[0m                         Traceback (most recent call last)",
            "\u001b[0;32m<ipython-input-7-d5ce616dbe74>\u001b[0m in \u001b[0;36m<cell line: 15>\u001b[0;34m()\u001b[0m\n\u001b[1;32m     13\u001b[0m   \u001b[0mbar\u001b[0m\u001b[0;34m(\u001b[0m\u001b[0;34m)\u001b[0m\u001b[0;34m\u001b[0m\u001b[0;34m\u001b[0m\u001b[0m\n\u001b[1;32m     14\u001b[0m \u001b[0;34m\u001b[0m\u001b[0m\n\u001b[0;32m---> 15\u001b[0;31m \u001b[0mfoo\u001b[0m\u001b[0;34m(\u001b[0m\u001b[0;34m)\u001b[0m\u001b[0;34m\u001b[0m\u001b[0;34m\u001b[0m\u001b[0m\n\u001b[0m",
            "\u001b[0;32m<ipython-input-7-d5ce616dbe74>\u001b[0m in \u001b[0;36mfoo\u001b[0;34m()\u001b[0m\n\u001b[1;32m     11\u001b[0m     \u001b[0mprint\u001b[0m\u001b[0;34m(\u001b[0m\u001b[0mg\u001b[0m\u001b[0;34m)\u001b[0m\u001b[0;34m\u001b[0m\u001b[0;34m\u001b[0m\u001b[0m\n\u001b[1;32m     12\u001b[0m     \u001b[0mg\u001b[0m \u001b[0;34m=\u001b[0m \u001b[0;36m2\u001b[0m\u001b[0;34m\u001b[0m\u001b[0;34m\u001b[0m\u001b[0m\n\u001b[0;32m---> 13\u001b[0;31m   \u001b[0mbar\u001b[0m\u001b[0;34m(\u001b[0m\u001b[0;34m)\u001b[0m\u001b[0;34m\u001b[0m\u001b[0;34m\u001b[0m\u001b[0m\n\u001b[0m\u001b[1;32m     14\u001b[0m \u001b[0;34m\u001b[0m\u001b[0m\n\u001b[1;32m     15\u001b[0m \u001b[0mfoo\u001b[0m\u001b[0;34m(\u001b[0m\u001b[0;34m)\u001b[0m\u001b[0;34m\u001b[0m\u001b[0;34m\u001b[0m\u001b[0m\n",
            "\u001b[0;32m<ipython-input-7-d5ce616dbe74>\u001b[0m in \u001b[0;36mbar\u001b[0;34m()\u001b[0m\n\u001b[1;32m      9\u001b[0m \u001b[0;34m\u001b[0m\u001b[0m\n\u001b[1;32m     10\u001b[0m   \u001b[0;32mdef\u001b[0m \u001b[0mbar\u001b[0m\u001b[0;34m(\u001b[0m\u001b[0;34m)\u001b[0m\u001b[0;34m:\u001b[0m\u001b[0;34m\u001b[0m\u001b[0;34m\u001b[0m\u001b[0m\n\u001b[0;32m---> 11\u001b[0;31m     \u001b[0mprint\u001b[0m\u001b[0;34m(\u001b[0m\u001b[0mg\u001b[0m\u001b[0;34m)\u001b[0m\u001b[0;34m\u001b[0m\u001b[0;34m\u001b[0m\u001b[0m\n\u001b[0m\u001b[1;32m     12\u001b[0m     \u001b[0mg\u001b[0m \u001b[0;34m=\u001b[0m \u001b[0;36m2\u001b[0m\u001b[0;34m\u001b[0m\u001b[0;34m\u001b[0m\u001b[0m\n\u001b[1;32m     13\u001b[0m   \u001b[0mbar\u001b[0m\u001b[0;34m(\u001b[0m\u001b[0;34m)\u001b[0m\u001b[0;34m\u001b[0m\u001b[0;34m\u001b[0m\u001b[0m\n",
            "\u001b[0;31mUnboundLocalError\u001b[0m: local variable 'g' referenced before assignment"
          ]
        }
      ]
    },
    {
      "cell_type": "code",
      "source": [
        "# 上面的例子进入内部函数时，=号左边的被认为是内部函数的临时变量,\n",
        "# 所以会报错找不到g，如下可正常运行，使用了外部变量\n",
        "g = 1\n",
        "def foo():\n",
        "  def bar():\n",
        "    b = g + 1\n",
        "    # 基于这个特性，内部函数一般情况下不能改变外部函数变量的值\n",
        "    # g = 2\n",
        "    print(b)\n",
        "  bar()\n",
        "foo()"
      ],
      "metadata": {
        "colab": {
          "base_uri": "https://localhost:8080/"
        },
        "id": "l-NMY9TdACDX",
        "outputId": "90b8f336-cd49-45f5-92fd-dba0042e06c5"
      },
      "execution_count": 9,
      "outputs": [
        {
          "output_type": "stream",
          "name": "stdout",
          "text": [
            "2\n"
          ]
        }
      ]
    },
    {
      "cell_type": "code",
      "source": [
        "# 加上global关键字之后可以修改外部变量，而且=号也不会新建新的临时变量\n",
        "g = 1\n",
        "def foo():\n",
        "  def bar():\n",
        "    global g\n",
        "    g = 2\n",
        "    b = g + 1\n",
        "    print(b)\n",
        "  bar()\n",
        "foo()\n",
        "print(g)\n",
        "# 需要删除一下，因为后面的代码块会受影响\n",
        "del g"
      ],
      "metadata": {
        "colab": {
          "base_uri": "https://localhost:8080/"
        },
        "id": "V4uvL-ciFaEc",
        "outputId": "b3592f18-c0dd-41fc-bb57-313b773b9479"
      },
      "execution_count": 13,
      "outputs": [
        {
          "output_type": "stream",
          "name": "stdout",
          "text": [
            "3\n",
            "2\n"
          ]
        }
      ]
    },
    {
      "cell_type": "code",
      "source": [
        "def foo():\n",
        "  g = 1\n",
        "  def bar():\n",
        "    # 如果g是局部变量非全局变量，可以使用nonlocal关键字\n",
        "    nonlocal g\n",
        "    g = 2\n",
        "    b = g + 1\n",
        "    print(b)\n",
        "  bar()\n",
        "  # 不使用nonlocal输出1，使用输出2\n",
        "  print(g)\n",
        "foo()"
      ],
      "metadata": {
        "colab": {
          "base_uri": "https://localhost:8080/"
        },
        "id": "E1s6TynZO34c",
        "outputId": "3cf3c29f-2d99-4c42-a2d1-302be75d9f87"
      },
      "execution_count": 25,
      "outputs": [
        {
          "output_type": "stream",
          "name": "stdout",
          "text": [
            "3\n",
            "2\n"
          ]
        }
      ]
    },
    {
      "cell_type": "code",
      "source": [
        "def foo():\n",
        "  return [lambda x: x * i for i in range(3)]\n",
        "\n",
        "\"\"\"\n",
        "三个lambda表达式都输出20，因为内部函数只在运行时去找i的值，\n",
        "而i值最后递增到2，\n",
        "\"\"\"\n",
        "print(foo()[0](10))\n",
        "print(foo()[1](10))\n",
        "print(foo()[2](10))\n",
        "# 虽然内部的lambda表达式使用了i的值，但在外部无法找到i，\n",
        "# i的引用只留存在内部函数里，因此内部函数获取了外部函数的变量之后，即使外部函数运行完毕依旧不会被回收\n",
        "print(i)\n"
      ],
      "metadata": {
        "colab": {
          "base_uri": "https://localhost:8080/",
          "height": 267
        },
        "id": "1YybIslrV-ue",
        "outputId": "00a91c01-eba9-407c-c93a-edd7a2d7c8cb"
      },
      "execution_count": 31,
      "outputs": [
        {
          "output_type": "stream",
          "name": "stdout",
          "text": [
            "20\n",
            "20\n",
            "20\n"
          ]
        },
        {
          "output_type": "error",
          "ename": "NameError",
          "evalue": "ignored",
          "traceback": [
            "\u001b[0;31m---------------------------------------------------------------------------\u001b[0m",
            "\u001b[0;31mNameError\u001b[0m                                 Traceback (most recent call last)",
            "\u001b[0;32m<ipython-input-31-ec81c5088ec4>\u001b[0m in \u001b[0;36m<cell line: 13>\u001b[0;34m()\u001b[0m\n\u001b[1;32m     11\u001b[0m \u001b[0;31m# 虽然内部的lambda表达式使用了i的值，但在外部无法找到i，\u001b[0m\u001b[0;34m\u001b[0m\u001b[0;34m\u001b[0m\u001b[0m\n\u001b[1;32m     12\u001b[0m \u001b[0;31m# i的引用只留存在内部函数里，因此内部函数获取了外部函数的变量之后，即使外部函数运行完毕依旧不会被回收\u001b[0m\u001b[0;34m\u001b[0m\u001b[0;34m\u001b[0m\u001b[0m\n\u001b[0;32m---> 13\u001b[0;31m \u001b[0mprint\u001b[0m\u001b[0;34m(\u001b[0m\u001b[0mi\u001b[0m\u001b[0;34m)\u001b[0m\u001b[0;34m\u001b[0m\u001b[0;34m\u001b[0m\u001b[0m\n\u001b[0m",
            "\u001b[0;31mNameError\u001b[0m: name 'i' is not defined"
          ]
        }
      ]
    },
    {
      "cell_type": "code",
      "source": [
        "\"\"\"\n",
        "利用上述特性可以隐式的保存变量的值，但不能随意使用，因为变量即使不使用无法被正确回收\n",
        "\"\"\"\n",
        "# 例如基于上一次的位置移动\n",
        "def outer(pos=0):\n",
        "  def move(step):\n",
        "    # pos使用容器（list）或者nonlocal可以修改\n",
        "    nonlocal pos\n",
        "    pos += step\n",
        "    return pos\n",
        "  return move\n",
        "\n",
        "move = outer()\n",
        "print(move(2))\n",
        "print(move(-2))\n",
        "print(move(1))\n",
        "# 如果不使用闭包则可以使用全局变量、类变量或者每次移动使用变量保存新位置"
      ],
      "metadata": {
        "colab": {
          "base_uri": "https://localhost:8080/"
        },
        "id": "xIes1_Pjl0NH",
        "outputId": "97f80e81-2858-4d98-93fd-43a052bebb83"
      },
      "execution_count": 37,
      "outputs": [
        {
          "output_type": "stream",
          "name": "stdout",
          "text": [
            "2\n",
            "0\n",
            "1\n"
          ]
        }
      ]
    }
  ]
}