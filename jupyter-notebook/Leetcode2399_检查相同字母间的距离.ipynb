{
  "nbformat": 4,
  "nbformat_minor": 0,
  "metadata": {
    "colab": {
      "provenance": [],
      "authorship_tag": "ABX9TyNg45nSI3IyVdyifRv+/J2Z",
      "include_colab_link": true
    },
    "kernelspec": {
      "name": "python3",
      "display_name": "Python 3"
    },
    "language_info": {
      "name": "python"
    }
  },
  "cells": [
    {
      "cell_type": "markdown",
      "metadata": {
        "id": "view-in-github",
        "colab_type": "text"
      },
      "source": [
        "<a href=\"https://colab.research.google.com/github/Smpests/KeepLearning/blob/master/jupyter-notebook/Leetcode2399_%E6%A3%80%E6%9F%A5%E7%9B%B8%E5%90%8C%E5%AD%97%E6%AF%8D%E9%97%B4%E7%9A%84%E8%B7%9D%E7%A6%BB.ipynb\" target=\"_parent\"><img src=\"https://colab.research.google.com/assets/colab-badge.svg\" alt=\"Open In Colab\"/></a>"
      ]
    },
    {
      "cell_type": "markdown",
      "source": [
        "[Leetcode 2399.检查相同字母间的距离](https://leetcode.cn/problems/check-distances-between-same-letters/)"
      ],
      "metadata": {
        "id": "SSqrz0gtomIB"
      }
    },
    {
      "cell_type": "code",
      "execution_count": 2,
      "metadata": {
        "colab": {
          "base_uri": "https://localhost:8080/"
        },
        "id": "YnG_MQBuoiJd",
        "outputId": "63bdccf5-1ae0-4b6d-cd20-ef33ae24f7e1"
      },
      "outputs": [
        {
          "output_type": "stream",
          "name": "stdout",
          "text": [
            "True\n"
          ]
        }
      ],
      "source": [
        "from typing import List\n",
        "\n",
        "class Solution:\n",
        "    def checkDistances(self, s: str, distance: List[int]) -> bool:\n",
        "        length = len(s)\n",
        "        already_checked = set()\n",
        "        for idx, char in enumerate(s):\n",
        "            if char in already_checked:\n",
        "                continue\n",
        "            cur_distance = distance[ord(char) - ord('a')]\n",
        "            pos = idx + cur_distance + 1\n",
        "            if pos >= length or s[pos] != char:\n",
        "                return False\n",
        "            already_checked.add(char)\n",
        "        return True\n",
        "\n",
        "res = Solution().checkDistances(\"abaccb\", [1,3,0,5,0,0,0,0,0,0,0,0,0,0,0,0,0,0,0,0,0,0,0,0,0,0])\n",
        "print(res)\n",
        "assert res == True"
      ]
    }
  ]
}