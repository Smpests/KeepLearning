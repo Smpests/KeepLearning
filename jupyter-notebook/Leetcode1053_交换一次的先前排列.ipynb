{
  "nbformat": 4,
  "nbformat_minor": 0,
  "metadata": {
    "colab": {
      "provenance": [],
      "authorship_tag": "ABX9TyMxPgoCoc/HQRzZHmjnqyc7",
      "include_colab_link": true
    },
    "kernelspec": {
      "name": "python3",
      "display_name": "Python 3"
    },
    "language_info": {
      "name": "python"
    }
  },
  "cells": [
    {
      "cell_type": "markdown",
      "metadata": {
        "id": "view-in-github",
        "colab_type": "text"
      },
      "source": [
        "<a href=\"https://colab.research.google.com/github/Smpests/KeepLearning/blob/master/jupyter-notebook/Leetcode1053_%E4%BA%A4%E6%8D%A2%E4%B8%80%E6%AC%A1%E7%9A%84%E5%85%88%E5%89%8D%E6%8E%92%E5%88%97.ipynb\" target=\"_parent\"><img src=\"https://colab.research.google.com/assets/colab-badge.svg\" alt=\"Open In Colab\"/></a>"
      ]
    },
    {
      "cell_type": "markdown",
      "source": [
        "[Leetcode 1053.交换一次的先前排列](https://leetcode.cn/problems/previous-permutation-with-one-swap/)"
      ],
      "metadata": {
        "id": "zNb0w6YNsqtv"
      }
    },
    {
      "cell_type": "code",
      "execution_count": 1,
      "metadata": {
        "colab": {
          "base_uri": "https://localhost:8080/"
        },
        "id": "KsTaE5cesowH",
        "outputId": "7457af96-19e2-40f0-91b2-17df0fd087f9"
      },
      "outputs": [
        {
          "output_type": "stream",
          "name": "stdout",
          "text": [
            "[1, 7, 4, 6, 9]\n"
          ]
        }
      ],
      "source": [
        "from typing import List\n",
        "class Solution:\n",
        "    def prevPermOpt1(self, arr: List[int]) -> List[int]:\n",
        "        \"\"\"\n",
        "        找逆序结束的位置，然后找该位置右侧小于结束位置最大的数进行交换\n",
        "        \"\"\"\n",
        "        # firstSwapIndex = 0\n",
        "        # lastSwapIndex = 1\n",
        "        # TODO: 倒着来更快且更简洁，因为找结束位置\n",
        "        # for i in range(1, len(arr) - 1):\n",
        "        #     if arr[i] > arr[i + 1]:\n",
        "        #         firstSwapIndex = i\n",
        "        #         lastSwapIndex = firstSwapIndex + 1\n",
        "        #     if arr[firstSwapIndex] > arr[i] and arr[i] > arr[lastSwapIndex]:\n",
        "        #         lastSwapIndex = i\n",
        "        # if arr[firstSwapIndex] > arr[-1] and arr[-1] > arr[lastSwapIndex]:\n",
        "        #     lastSwapIndex += 1\n",
        "        # if firstSwapIndex == lastSwapIndex:\n",
        "        #     return arr\n",
        "        # else:\n",
        "        #     arr[firstSwapIndex], arr[lastSwapIndex] = arr[lastSwapIndex], arr[firstSwapIndex]\n",
        "        #     return arr\n",
        "        # 比i位置小但最右侧的数用于交换， 初始化为倒数第一位\n",
        "        swapIndex = len(arr) - 1\n",
        "        # 减2是因为倒数第一位不需要枚举\n",
        "        \n",
        "        for i in range(len(arr) - 2, -1, -1):\n",
        "            # 逆序结束位置找到，i后面的值都是正序的\n",
        "            if arr[i] > arr[i + 1]:\n",
        "                while arr[swapIndex] >= arr[i] or arr[swapIndex] == arr[swapIndex - 1]:\n",
        "                    swapIndex -= 1\n",
        "                arr[i], arr[swapIndex] = arr[swapIndex], arr[i]\n",
        "                break\n",
        "        return arr\n",
        "\n",
        "res = Solution().prevPermOpt1([1,9,4,6,7])\n",
        "print(res)\n",
        "assert res == [1,7,4,6,9]"
      ]
    }
  ]
}