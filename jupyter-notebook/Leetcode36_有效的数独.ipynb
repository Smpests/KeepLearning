{
  "nbformat": 4,
  "nbformat_minor": 0,
  "metadata": {
    "colab": {
      "provenance": [],
      "authorship_tag": "ABX9TyM9+w5x+XR3gtOF6rYE43RR",
      "include_colab_link": true
    },
    "kernelspec": {
      "name": "python3",
      "display_name": "Python 3"
    },
    "language_info": {
      "name": "python"
    }
  },
  "cells": [
    {
      "cell_type": "markdown",
      "metadata": {
        "id": "view-in-github",
        "colab_type": "text"
      },
      "source": [
        "<a href=\"https://colab.research.google.com/github/Smpests/KeepLearning/blob/master/jupyter-notebook/Leetcode36_%E6%9C%89%E6%95%88%E7%9A%84%E6%95%B0%E7%8B%AC.ipynb\" target=\"_parent\"><img src=\"https://colab.research.google.com/assets/colab-badge.svg\" alt=\"Open In Colab\"/></a>"
      ]
    },
    {
      "cell_type": "markdown",
      "source": [
        "[Leetcode 36.有效的数独](https://leetcode.cn/problems/valid-sudoku/)"
      ],
      "metadata": {
        "id": "VTMV3pEMX2dv"
      }
    },
    {
      "cell_type": "code",
      "execution_count": 1,
      "metadata": {
        "colab": {
          "base_uri": "https://localhost:8080/"
        },
        "id": "aBMXZSQoX1jR",
        "outputId": "d47f2d9d-8265-4bfd-e28b-fbc362bed7ed"
      },
      "outputs": [
        {
          "output_type": "stream",
          "name": "stdout",
          "text": [
            "True\n"
          ]
        }
      ],
      "source": [
        "from typing import List\n",
        "\n",
        "class Solution:\n",
        "    def isValidSudoku(self, board: List[List[str]]) -> bool:\n",
        "        row_set = [set() for _ in range(9)]\n",
        "        col_set = [set() for _ in range(9)]\n",
        "        # 枚举中心点\n",
        "        center = [[x, y] for x in range (1, 9, 3) for y in range(1, 9, 3)]\n",
        "        center_set = [set() for _ in range(9)]\n",
        "        # 遍历中心点\n",
        "        for cid, xy in enumerate(center):\n",
        "            x, y = xy\n",
        "            for i in range(x - 1, x + 2):\n",
        "                for j in range(y - 1, y + 2):\n",
        "                    v = board[i][j]\n",
        "                    if v == \".\":\n",
        "                        continue\n",
        "                    # 不在集合中则添加\n",
        "                    if v not in row_set[i] and v not in col_set[j] and v not in center_set[cid]:\n",
        "                        row_set[i].add(v)\n",
        "                        col_set[j].add(v)\n",
        "                        center_set[cid].add(v)\n",
        "                    else:\n",
        "                        # 当前数字已在集合中则无效\n",
        "                        return False\n",
        "        return True\n",
        "\n",
        "res = Solution().isValidSudoku([\n",
        "    [\"5\",\"3\",\".\",\".\",\"7\",\".\",\".\",\".\",\".\"],\n",
        "    [\"6\",\".\",\".\",\"1\",\"9\",\"5\",\".\",\".\",\".\"],\n",
        "    [\".\",\"9\",\"8\",\".\",\".\",\".\",\".\",\"6\",\".\"],\n",
        "    [\"8\",\".\",\".\",\".\",\"6\",\".\",\".\",\".\",\"3\"],\n",
        "    [\"4\",\".\",\".\",\"8\",\".\",\"3\",\".\",\".\",\"1\"],\n",
        "    [\"7\",\".\",\".\",\".\",\"2\",\".\",\".\",\".\",\"6\"],\n",
        "    [\".\",\"6\",\".\",\".\",\".\",\".\",\"2\",\"8\",\".\"],\n",
        "    [\".\",\".\",\".\",\"4\",\"1\",\"9\",\".\",\".\",\"5\"],\n",
        "    [\".\",\".\",\".\",\".\",\"8\",\".\",\".\",\"7\",\"9\"]])\n",
        "print(res)\n",
        "assert res == True"
      ]
    }
  ]
}