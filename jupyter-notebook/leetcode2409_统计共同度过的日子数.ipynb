{
  "nbformat": 4,
  "nbformat_minor": 0,
  "metadata": {
    "colab": {
      "provenance": [],
      "authorship_tag": "ABX9TyMI2YwZnVtam33ZzNPnLfi6",
      "include_colab_link": true
    },
    "kernelspec": {
      "name": "python3",
      "display_name": "Python 3"
    },
    "language_info": {
      "name": "python"
    }
  },
  "cells": [
    {
      "cell_type": "markdown",
      "metadata": {
        "id": "view-in-github",
        "colab_type": "text"
      },
      "source": [
        "<a href=\"https://colab.research.google.com/github/Smpests/KeepLearning/blob/master/jupyter-notebook/leetcode2409_%E7%BB%9F%E8%AE%A1%E5%85%B1%E5%90%8C%E5%BA%A6%E8%BF%87%E7%9A%84%E6%97%A5%E5%AD%90%E6%95%B0.ipynb\" target=\"_parent\"><img src=\"https://colab.research.google.com/assets/colab-badge.svg\" alt=\"Open In Colab\"/></a>"
      ]
    },
    {
      "cell_type": "markdown",
      "source": [
        "[leetcode 2409. 统计共同度过的日子数](https://leetcode.cn/problems/count-days-spent-together/)"
      ],
      "metadata": {
        "id": "QyBiy7GEFxAu"
      }
    },
    {
      "cell_type": "code",
      "execution_count": 1,
      "metadata": {
        "colab": {
          "base_uri": "https://localhost:8080/"
        },
        "id": "MHchKW9IFtty",
        "outputId": "9166df81-c877-4034-b3ee-7cb3cefb1754"
      },
      "outputs": [
        {
          "output_type": "stream",
          "name": "stdout",
          "text": [
            "3\n"
          ]
        }
      ],
      "source": [
        "class Solution:\n",
        "    def countDaysTogether(self, arriveAlice: str, leaveAlice: str, arriveBob: str, leaveBob: str) -> int:\n",
        "        arriveAliceDate = TravelDate(arriveAlice)\n",
        "        leaveAliceDate = TravelDate(leaveAlice)\n",
        "        arriveBobDate = TravelDate(arriveBob)\n",
        "        leaveBobDate = TravelDate(leaveBob)\n",
        "        if leaveAliceDate.dayOfYear < arriveBobDate.dayOfYear or arriveAliceDate.dayOfYear > leaveBobDate.dayOfYear:\n",
        "            return 0\n",
        "        # +1因为要算上被减去的第一天\n",
        "        return min(leaveBobDate.dayOfYear, leaveAliceDate.dayOfYear) - max(arriveBobDate.dayOfYear, arriveAliceDate.dayOfYear) + 1\n",
        "\n",
        "\n",
        "class TravelDate:\n",
        "    dayOfMonth = [31, 28, 31, 30, 31, 30, 31, 31, 30, 31, 30, 31]\n",
        "\n",
        "    def __init__(self, date_str: str):\n",
        "        self.month = int(date_str[:2])\n",
        "        self.day = int(date_str[3:])\n",
        "        # 一年中的第几天\n",
        "        self.dayOfYear = sum(TravelDate.dayOfMonth[:self.month - 1]) + self.day\n",
        "\n",
        "\n",
        "res = Solution().countDaysTogether(\"08-15\", \"08-18\", \"08-16\", \"08-19\")\n",
        "print(res)\n",
        "assert res == 3"
      ]
    }
  ]
}