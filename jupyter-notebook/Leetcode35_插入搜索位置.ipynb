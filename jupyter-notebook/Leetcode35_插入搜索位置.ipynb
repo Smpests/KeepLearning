{
  "nbformat": 4,
  "nbformat_minor": 0,
  "metadata": {
    "colab": {
      "provenance": [],
      "authorship_tag": "ABX9TyPqSM/r+/QKmbfej9aHLuwa",
      "include_colab_link": true
    },
    "kernelspec": {
      "name": "python3",
      "display_name": "Python 3"
    },
    "language_info": {
      "name": "python"
    }
  },
  "cells": [
    {
      "cell_type": "markdown",
      "metadata": {
        "id": "view-in-github",
        "colab_type": "text"
      },
      "source": [
        "<a href=\"https://colab.research.google.com/github/Smpests/KeepLearning/blob/master/jupyter-notebook/Leetcode35_%E6%8F%92%E5%85%A5%E6%90%9C%E7%B4%A2%E4%BD%8D%E7%BD%AE.ipynb\" target=\"_parent\"><img src=\"https://colab.research.google.com/assets/colab-badge.svg\" alt=\"Open In Colab\"/></a>"
      ]
    },
    {
      "cell_type": "markdown",
      "source": [
        "[Leetcode 35.搜索插入位置](https://leetcode.cn/problems/search-insert-position/)"
      ],
      "metadata": {
        "id": "zKiNMYZNNosk"
      }
    },
    {
      "cell_type": "code",
      "execution_count": 2,
      "metadata": {
        "colab": {
          "base_uri": "https://localhost:8080/"
        },
        "id": "It2IF_ijNk36",
        "outputId": "37cd4518-7f9e-4a0d-b26d-105417e4712a"
      },
      "outputs": [
        {
          "output_type": "stream",
          "name": "stdout",
          "text": [
            "2\n"
          ]
        }
      ],
      "source": [
        "from typing import List\n",
        "# class Solution:\n",
        "#     def searchInsert(self, nums: List[int], target: int) -> int:\n",
        "#         left = 0\n",
        "#         right = len(nums) - 1\n",
        "#         while left <= right:\n",
        "#             mid = (left + right) // 2\n",
        "#             if target == nums[mid]:\n",
        "#                 return mid\n",
        "#             if target < nums[mid]:\n",
        "#                 right = mid - 1\n",
        "#             else:\n",
        "#                 left = mid + 1\n",
        "#         return mid + 1 if target > nums[mid] else mid\n",
        "# 提交后上面的速度显示还快些\n",
        "class Solution:\n",
        "    def searchInsert(self, nums: List[int], target: int) -> int:\n",
        "        left = 0\n",
        "        right = len(nums)\n",
        "        while left < right:\n",
        "            mid = (left + right) // 2\n",
        "            # 注释下面的==最慢\n",
        "            if target == nums[mid]:\n",
        "                return mid\n",
        "            if target > nums[mid]:\n",
        "                left = mid + 1\n",
        "            else:\n",
        "                right = mid\n",
        "        return left\n",
        "\n",
        "res = Solution().searchInsert([1,3,5,6], 5)\n",
        "print(res)\n",
        "assert res == 2"
      ]
    }
  ]
}