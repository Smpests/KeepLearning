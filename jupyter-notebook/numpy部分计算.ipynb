{
  "nbformat": 4,
  "nbformat_minor": 0,
  "metadata": {
    "colab": {
      "provenance": [],
      "authorship_tag": "ABX9TyMGJWtNEs5Y1zylVycl2Idr",
      "include_colab_link": true
    },
    "kernelspec": {
      "name": "python3",
      "display_name": "Python 3"
    },
    "language_info": {
      "name": "python"
    }
  },
  "cells": [
    {
      "cell_type": "markdown",
      "metadata": {
        "id": "view-in-github",
        "colab_type": "text"
      },
      "source": [
        "<a href=\"https://colab.research.google.com/github/Smpests/KeepLearning/blob/master/jupyter-notebook/numpy%E9%83%A8%E5%88%86%E8%AE%A1%E7%AE%97.ipynb\" target=\"_parent\"><img src=\"https://colab.research.google.com/assets/colab-badge.svg\" alt=\"Open In Colab\"/></a>"
      ]
    },
    {
      "cell_type": "code",
      "execution_count": 1,
      "metadata": {
        "colab": {
          "base_uri": "https://localhost:8080/"
        },
        "id": "uFgoT2yrf9xp",
        "outputId": "84758586-f193-4140-8d8b-8121989e61d9"
      },
      "outputs": [
        {
          "output_type": "stream",
          "name": "stdout",
          "text": [
            "[ 5  7  9 11]\n"
          ]
        }
      ],
      "source": [
        "# ufunc代表通用函数，操作对象是ndarray\n",
        "# 实现了矢量化（向量化操作）\n",
        "import numpy as np\n",
        "\n",
        "x = [1, 2, 3, 4]\n",
        "y = [4, 5, 6, 7]\n",
        "# 这里也可用zip()实现\n",
        "z = np.add(x, y)\n",
        "print(z)"
      ]
    },
    {
      "cell_type": "code",
      "source": [
        "# 自定义ufunc\n",
        "import numpy as np\n",
        "\n",
        "def myadd(x, y):\n",
        "  return x + y\n",
        "\n",
        "# 使用frompyfunc注册到numpy ufunc库中\n",
        "# 3个参数：function已定义的函数名称，inputs函数允许输入的ndarray数量，outputs输出的数组的数量\n",
        "myadd = np.frompyfunc(myadd, 2, 1)\n",
        "\n",
        "print(myadd([1, 2, 3, 4], [5, 6, 7, 8]))\n",
        "# 查看函数类型\n",
        "print(type(myadd))\n",
        "print(type(np.concatenate))\n",
        "\n",
        "# 减法\n",
        "arr1 = np.array([10, 20, 30, 40, 50, 60])\n",
        "arr2 = np.array([20, 21, 22, 23, 24, 25])\n",
        "# 参数1是被减数\n",
        "newarr = np.subtract(arr2, arr1)\n",
        "\n",
        "print(\"减法: \", newarr)\n",
        "\n",
        "# 乘法\n",
        "arr1 = np.array([10, 20, 30, 40, 50, 60])\n",
        "arr2 = np.array([20, 21, 22, 23, 24, 25])\n",
        "newarr = np.multiply(arr1, arr2)\n",
        "print(\"乘法：\", newarr)\n",
        "\n",
        "# 除法\n",
        "print(\"除法：\", np.divide(arr2, arr1))\n",
        "\n",
        "# 幂次方\n",
        "arr1 = np.array([10, 20, 30, 40, 50, 60])\n",
        "arr2 = np.array([3, 5, 6, 8, 2, 33])\n",
        "newarr = np.power(arr1, arr2)\n",
        "\n",
        "print(\"幂次方\", newarr)\n",
        "\n",
        "# 求余数(取模)，两种方法结果一致\n",
        "print(\"mod求余：\", np.mod(arr1, arr2))\n",
        "print(\"remainder求余：\", np.remainder(arr1, arr2))\n",
        "\n",
        "# divmod，将返回两个ndarray，0是商、1是余\n",
        "print(\"求商和模：\", np.divmod(arr1, arr2))\n",
        "\n",
        "# 绝对值\n",
        "arr = np.array([-1, -2, 1, 2, 3, -4])\n",
        "print(\"绝对值：\", np.absolute(arr))"
      ],
      "metadata": {
        "colab": {
          "base_uri": "https://localhost:8080/"
        },
        "id": "fiE1iGKVg8Wg",
        "outputId": "94cf23e0-9d31-4334-a850-b836e3b6d1b3"
      },
      "execution_count": 14,
      "outputs": [
        {
          "output_type": "stream",
          "name": "stdout",
          "text": [
            "[6 8 10 12]\n",
            "<class 'numpy.ufunc'>\n",
            "<class 'function'>\n",
            "减法:  [ 10   1  -8 -17 -26 -35]\n",
            "乘法： [ 200  420  660  920 1200 1500]\n",
            "除法： [2.         1.05       0.73333333 0.575      0.48       0.41666667]\n",
            "幂次方 [         1000       3200000     729000000 6553600000000          2500\n",
            "             0]\n",
            "mod求余： [ 1  0  0  0  0 27]\n",
            "remainder求余： [ 1  0  0  0  0 27]\n",
            "求商和模： (array([ 3,  4,  5,  5, 25,  1]), array([ 1,  0,  0,  0,  0, 27]))\n",
            "绝对值： [1 2 1 2 3 4]\n"
          ]
        }
      ]
    },
    {
      "cell_type": "code",
      "source": [
        "# 四舍五入近似值\n",
        "import numpy as np\n",
        "\n",
        "arr = np.trunc([-3.1666, 3.6667])\n",
        "print(\"直接截断小数点后面的数：\", np.trunc([-3.1666, 3.6667]))\n",
        "print(\"fix同trunc也是截断：\", np.fix([-3.1666, 3.6667]))\n",
        "\n",
        "print(\"四舍五入保留2位小数：\", np.around(np.random.rand(), 2))\n",
        "\n",
        "print(\"四舍五入到最近的小整数：\", np.floor([3.14, 3.68]))\n",
        "# 和floor()相反\n",
        "print(\"四舍五入到最近的大整数：\", np.ceil([3.14, 3.68]))"
      ],
      "metadata": {
        "colab": {
          "base_uri": "https://localhost:8080/"
        },
        "id": "_gvnryi6jvet",
        "outputId": "9efa8ddc-b6a2-4fc3-8239-e47af32aca57"
      },
      "execution_count": 21,
      "outputs": [
        {
          "output_type": "stream",
          "name": "stdout",
          "text": [
            "直接截断小数点后面的数： [-3.  3.]\n",
            "fix同trunc也是截断： [-3.  3.]\n",
            "四舍五入保留2位小数： 0.31\n",
            "四舍五入到最近的小整数： [3. 3.]\n",
            "四舍五入到最近的大整数： [4. 4.]\n"
          ]
        }
      ]
    },
    {
      "cell_type": "code",
      "source": [
        "# 对数\n",
        "# 无法计算对数的元素结果会置为-inf或inf\n",
        "\n",
        "import numpy as np\n",
        "\n",
        "# numpy.arange(start=0, stop, step=1, dtype = None)生成[star, end)内的数据\n",
        "arr = np.arange(1, 10)\n",
        "\n",
        "print(\"2为底：\", np.log2(arr))\n",
        "print(\"10为底：\", np.log10(arr))\n",
        "print(\"e为底：\", np.log(arr))\n",
        "\n",
        "# 自定义以任何数为底的求对数\n",
        "from math import log\n",
        "nplog = np.frompyfunc(log, 2, 1)\n",
        "print(\"12为底\", nplog(144, 12))"
      ],
      "metadata": {
        "colab": {
          "base_uri": "https://localhost:8080/"
        },
        "id": "CsHo8riFlCpd",
        "outputId": "c7331d9e-ced5-41dd-a529-df70a1e1ab55"
      },
      "execution_count": 26,
      "outputs": [
        {
          "output_type": "stream",
          "name": "stdout",
          "text": [
            "2为底： [0.         1.         1.5849625  2.         2.32192809 2.5849625\n",
            " 2.80735492 3.         3.169925  ]\n",
            "10为底： [0.         0.30103    0.47712125 0.60205999 0.69897    0.77815125\n",
            " 0.84509804 0.90308999 0.95424251]\n",
            "e为底： [0.         0.69314718 1.09861229 1.38629436 1.60943791 1.79175947\n",
            " 1.94591015 2.07944154 2.19722458]\n",
            "2.0\n"
          ]
        }
      ]
    },
    {
      "cell_type": "code",
      "source": [
        "import numpy as np\n",
        "\n",
        "arr1 = np.array([[1, 2, 3]])\n",
        "arr2 = np.array([[1, 2, 3]])\n",
        "\n",
        "# 区别于add，sum默认会把两个array中的所有数相加得到一个累加值而不是一个array\n",
        "newarr = np.sum([arr1, arr2])\n",
        "print(newarr)\n",
        "\n",
        "# axis表示下标发生变化的维度（维度从0开始），需要在该维度上操作数据\n",
        "print(np.sum([arr1, arr2], axis=2))\n",
        "\n",
        "# 累积和/前缀和\n",
        "arr = np.array([1, 2, 3])\n",
        "\n",
        "newarr = np.cumsum(arr)\n",
        "print(\"前缀和/累积和：\", newarr)\n",
        "\n",
        "# 连续乘：1*2*3*4\n",
        "print(np.prod(np.array([1, 2, 3, 4])))\n",
        "print(np.prod(np.array([[1, 2, 3], [4, 5, 6]])))\n",
        "print(np.prod(np.array([[1, 2, 3], [4, 5, 6]]), axis=1))\n",
        "\n",
        "# 前缀积\n",
        "print(\"前缀积：\", np.cumprod(np.array([5, 6, 7])))\n",
        "\n",
        "# 连续减：例如，对于 [1, 2, 3, 4]，离散差将是 [2-1, 3-2, 4-3] = [1, 1, 1]\n",
        "# 结果集长度将少1位\n",
        "print(\"连续减：\", np.diff(np.array([10, 15, 25, 5])))\n",
        "# 将第n-1次的结果用于第n次的计算\n",
        "print(\"连续减2次\", np.diff(np.array([10, 15, 25, 5]), n=2))"
      ],
      "metadata": {
        "id": "erkxyRKAl6rc",
        "outputId": "8d3d48e5-214b-4da0-9d9f-b9dfbc4f19b9",
        "colab": {
          "base_uri": "https://localhost:8080/"
        }
      },
      "execution_count": 39,
      "outputs": [
        {
          "output_type": "stream",
          "name": "stdout",
          "text": [
            "12\n",
            "[[6]\n",
            " [6]]\n",
            "前缀和/累积和： [1 3 6]\n",
            "24\n",
            "720\n",
            "[  6 120]\n",
            "前缀积： [  5  30 210]\n",
            "连续减： [  5  10 -20]\n",
            " [  5 -30]\n"
          ]
        }
      ]
    },
    {
      "cell_type": "code",
      "source": [
        "# LCM（最小公倍数）\n",
        "\n",
        "import numpy as np\n",
        "\n",
        "num1 = 4\n",
        "num2 = 6\n",
        "\n",
        "x = np.lcm(num1, num2)\n",
        "\n",
        "print(\"最小公倍数：\", x)\n",
        "# 使用reduce在数组上找最小公倍数，并输出原数组维度-1的数组\n",
        "arr = np.array([3, 6, 9])\n",
        "\n",
        "print(\"array上的最小公倍数：\", np.lcm.reduce(arr))\n",
        "print(\"array上的最小公倍数：\", np.lcm.reduce(np.arange(1, 11)))\n",
        "\n",
        "# GCD（最大公分母）/HCF(最大公因数)\n",
        "\n",
        "print(\"最大公因数：\", np.gcd(6, 9))\n",
        "print(\"array上的最大公因数：\", np.gcd.reduce(np.arange(5, 11)))"
      ],
      "metadata": {
        "id": "tn161yI_sOjc",
        "outputId": "8671483b-0b12-48cc-d0c7-ee8cf188c10d",
        "colab": {
          "base_uri": "https://localhost:8080/"
        }
      },
      "execution_count": 45,
      "outputs": [
        {
          "output_type": "stream",
          "name": "stdout",
          "text": [
            "最小公倍数： 12\n",
            "array上的最小公倍数： 18\n",
            "array上的最小公倍数： 2520\n",
            "最大公因数： 3\n",
            "array上的最大公因数： 1\n"
          ]
        }
      ]
    },
    {
      "cell_type": "code",
      "source": [
        "# 三角函数（搁置）https://www.w3schools.com/python/numpy/numpy_ufunc_trigonometric.asp\n",
        "# 双曲线（搁置）https://www.w3schools.com/python/numpy/numpy_ufunc_hyperbolic.asp"
      ],
      "metadata": {
        "id": "Jz-Gj719tfVe"
      },
      "execution_count": 52,
      "outputs": []
    },
    {
      "cell_type": "code",
      "source": [
        "# 集合\n",
        "import numpy as np\n",
        "\n",
        "arr = np.array([1, 1, 1, 2, 3, 4, 5, 5, 6, 7])\n",
        "print(\"去重：\", np.unique(arr))\n",
        "\n",
        "arr1 = np.array([1, 2, 3, 4])\n",
        "arr2 = np.array([3, 4, 5, 6])\n",
        "print(\"联合（并集）去重：\", np.union1d(arr1, arr2))\n",
        "# assume_unique有加速功能\n",
        "print(\"交集：\", np.intersect1d(arr1, arr2, assume_unique=True))\n",
        "# 第一个参数中有第二个参数中没有的\n",
        "print(\"差集\", np.setdiff1d(arr1, arr2, assume_unique=True))\n",
        "# 输出1中2没有的，2中1没有的\n",
        "print(\"两个集合中的对称差异值：\", np.setxor1d(arr1, arr2, assume_unique=True))"
      ],
      "metadata": {
        "id": "jyh8QZoat2In",
        "outputId": "878accc6-fdd7-40aa-b32b-ed18ada46d0c",
        "colab": {
          "base_uri": "https://localhost:8080/"
        }
      },
      "execution_count": 53,
      "outputs": [
        {
          "output_type": "stream",
          "name": "stdout",
          "text": [
            "去重： [1 2 3 4 5 6 7]\n",
            "联合（并集）去重： [1 2 3 4 5 6]\n",
            "交集： [3 4]\n",
            "差集 [1 2]\n",
            "两个集合中都没有的值： [1 2 5 6]\n"
          ]
        }
      ]
    }
  ]
}