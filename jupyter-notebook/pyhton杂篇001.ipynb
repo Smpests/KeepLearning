{
  "nbformat": 4,
  "nbformat_minor": 0,
  "metadata": {
    "colab": {
      "provenance": [],
      "authorship_tag": "ABX9TyOpS164d4BOmEncTJlIs2e1",
      "include_colab_link": true
    },
    "kernelspec": {
      "name": "python3",
      "display_name": "Python 3"
    },
    "language_info": {
      "name": "python"
    }
  },
  "cells": [
    {
      "cell_type": "markdown",
      "metadata": {
        "id": "view-in-github",
        "colab_type": "text"
      },
      "source": [
        "<a href=\"https://colab.research.google.com/github/Smpests/KeepLearning/blob/master/jupyter-notebook/pyhton%E6%9D%82%E7%AF%87001.ipynb\" target=\"_parent\"><img src=\"https://colab.research.google.com/assets/colab-badge.svg\" alt=\"Open In Colab\"/></a>"
      ]
    },
    {
      "cell_type": "code",
      "execution_count": 33,
      "metadata": {
        "colab": {
          "base_uri": "https://localhost:8080/"
        },
        "id": "QgFwGjsNuGtD",
        "outputId": "04b892a9-1f5b-4c86-f1cb-73a0ca6c2123"
      },
      "outputs": [
        {
          "output_type": "stream",
          "name": "stdout",
          "text": [
            "1\n"
          ]
        }
      ],
      "source": [
        "from collections import Counter\n",
        "def more_than_half(nums):\n",
        "  counter = Counter(nums)\n",
        "  total = len(nums)\n",
        "  for k, v in counter.items():\n",
        "    if v / total > 0.5:\n",
        "      return k\n",
        "  return None\n",
        "\n",
        "res = more_than_half([1, 1, 1, 1, 1, 2, 1, 2, 2, 2])\n",
        "print(res)"
      ]
    },
    {
      "cell_type": "code",
      "source": [
        "def depth(container):\n",
        "  if isinstance(container, list):\n",
        "    dep = 1\n",
        "    for ele in container:\n",
        "      dep = max(depth(ele) + 1, dep)\n",
        "    return dep\n",
        "  return 0\n",
        "\n",
        "res = depth([[1, [5, [6]]], [2, [3, [4]]]])\n",
        "print(res)"
      ],
      "metadata": {
        "colab": {
          "base_uri": "https://localhost:8080/"
        },
        "id": "q4F56mtLzbUY",
        "outputId": "03b6797b-9055-4a1e-f43d-56e7f4ddf939"
      },
      "execution_count": 35,
      "outputs": [
        {
          "output_type": "stream",
          "name": "stdout",
          "text": [
            "4\n"
          ]
        }
      ]
    },
    {
      "cell_type": "code",
      "source": [
        "import time\n",
        "import random\n",
        "from functools import wraps\n",
        "\n",
        "# 装饰器函数\n",
        "def retry(times: int=3, max_delay: int=3):\n",
        "  \"\"\"\n",
        "  需求：执行失败时重试，可以指定重试次数和最大延迟重试时间（区间内随机）\n",
        "  \"\"\"\n",
        "  def container(func):\n",
        "\n",
        "    @wraps(func)\n",
        "    def wrapper(*args, **kwargs):\n",
        "      exec_res = func(*args, **kwargs)\n",
        "      if not exec_res:\n",
        "        for i in range(times):\n",
        "          time.sleep(random.randint(0, max_delay))\n",
        "          print(f\"{time.ctime()} --- {func.__name__}重试第{i + 1}次\")\n",
        "          exec_res = func()\n",
        "          if exec_res:\n",
        "            print(f\"{time.ctime()} --- {func.__name__}执行成功\")\n",
        "            return\n",
        "      print(f\"{time.ctime()} --- {func.__name__}执行失败\")\n",
        "    return wrapper\n",
        "  return container\n",
        "\n",
        "# 装饰器类\n",
        "class Retry:\n",
        "  def __init__(self, times: int=3, max_delay=3):\n",
        "    self.times = times\n",
        "    self.max_delay = max_delay\n",
        "\n",
        "  def __call__(self, func):\n",
        "    @wraps(func)\n",
        "    def wrapper(*args, **kwargs):\n",
        "      exec_res = func(*args, **kwargs)\n",
        "      if not exec_res:\n",
        "        for i in range(self.times):\n",
        "          time.sleep(random.randint(0, self.max_delay))\n",
        "          print(f\"Retry {time.ctime()} --- {func.__name__}重试第{i + 1}次\")\n",
        "          exec_res = func()\n",
        "          if exec_res:\n",
        "            print(f\"{time.ctime()} --- {func.__name__}执行成功\")\n",
        "            return\n",
        "      print(f\"{time.ctime()} --- {func.__name__}执行失败\")\n",
        "    return wrapper\n",
        "\n",
        "random_exec_res = [False] * 8 + [True] * 2\n",
        "\n",
        "@Retry()\n",
        "def get_data():\n",
        "  return random.choice(random_exec_res)\n",
        "\n",
        "get_data()"
      ],
      "metadata": {
        "colab": {
          "base_uri": "https://localhost:8080/"
        },
        "id": "fdE0-y5E30uu",
        "outputId": "a53d367f-a9f1-4044-aecd-98ceabf4d4e0"
      },
      "execution_count": 62,
      "outputs": [
        {
          "output_type": "stream",
          "name": "stdout",
          "text": [
            "Retry Mon Apr  3 07:32:58 2023 --- get_data重试第1次\n",
            "Retry Mon Apr  3 07:33:00 2023 --- get_data重试第2次\n",
            "Retry Mon Apr  3 07:33:01 2023 --- get_data重试第3次\n",
            "Mon Apr  3 07:33:01 2023 --- get_data执行失败\n"
          ]
        }
      ]
    },
    {
      "cell_type": "code",
      "source": [
        "import cProfile\n",
        "\n",
        "# 需求：反转字符串\n",
        "s = \"123456789\"\n",
        "print(s[::-1])\n",
        "cProfile.run(\"s[::-1]\")\n",
        "print(\"\".join([s[i] for i in range(len(s) - 1, -1, -1)]))\n",
        "cProfile.run('\"\".join([s[i] for i in range(len(s) - 1, -1, -1)])')"
      ],
      "metadata": {
        "colab": {
          "base_uri": "https://localhost:8080/"
        },
        "id": "Gy00UDWA_hc6",
        "outputId": "935664af-93f4-4124-fd22-5d73303e12b3"
      },
      "execution_count": 66,
      "outputs": [
        {
          "output_type": "stream",
          "name": "stdout",
          "text": [
            "987654321\n",
            "         3 function calls in 0.000 seconds\n",
            "\n",
            "   Ordered by: standard name\n",
            "\n",
            "   ncalls  tottime  percall  cumtime  percall filename:lineno(function)\n",
            "        1    0.000    0.000    0.000    0.000 <string>:1(<module>)\n",
            "        1    0.000    0.000    0.000    0.000 {built-in method builtins.exec}\n",
            "        1    0.000    0.000    0.000    0.000 {method 'disable' of '_lsprof.Profiler' objects}\n",
            "\n",
            "\n",
            "987654321\n",
            "         6 function calls in 0.000 seconds\n",
            "\n",
            "   Ordered by: standard name\n",
            "\n",
            "   ncalls  tottime  percall  cumtime  percall filename:lineno(function)\n",
            "        1    0.000    0.000    0.000    0.000 <string>:1(<listcomp>)\n",
            "        1    0.000    0.000    0.000    0.000 <string>:1(<module>)\n",
            "        1    0.000    0.000    0.000    0.000 {built-in method builtins.exec}\n",
            "        1    0.000    0.000    0.000    0.000 {built-in method builtins.len}\n",
            "        1    0.000    0.000    0.000    0.000 {method 'disable' of '_lsprof.Profiler' objects}\n",
            "        1    0.000    0.000    0.000    0.000 {method 'join' of 'str' objects}\n",
            "\n",
            "\n"
          ]
        }
      ]
    },
    {
      "cell_type": "code",
      "source": [
        "# 列表中有1000000个元素，取值范围是[1000, 10000)，设计一个函数找出列表中的重复元素。\n",
        "import random\n",
        "import time\n",
        "from functools import wraps\n",
        "\n",
        "def duration(func):\n",
        "  @wraps(func)\n",
        "  def wrapper(*args, **kwargs):\n",
        "    start = time.time()\n",
        "    res = func(*args, **kwargs)\n",
        "    print(f\"{time.ctime()} --- {func.__name__} took {time.time() - start} seconds.\")\n",
        "    return res\n",
        "  return wrapper\n",
        "\n",
        "random_nums = [random.randint(1000, 9999) for _ in range(1000000)]\n",
        "\n",
        "@duration\n",
        "def get_repeat(nums):\n",
        "  # 元素不多，用hash表\n",
        "  num_set = set()\n",
        "  res = []\n",
        "  for num in nums:\n",
        "    if num in num_set:\n",
        "      res.append(num)\n",
        "    else:\n",
        "      num_set.add(num)\n",
        "  return res\n",
        "\n",
        "@duration\n",
        "def find_dup(items: list):\n",
        "    dups = [0] * 9999\n",
        "    for item in items:\n",
        "        dups[item - 1000] += 1\n",
        "    for idx, val in enumerate(dups):\n",
        "        if val > 1:\n",
        "            yield idx + 1000\n",
        "\n",
        "print(get_repeat(random_nums))\n",
        "print([r for r in find_dup(random_nums)])"
      ],
      "metadata": {
        "colab": {
          "base_uri": "https://localhost:8080/"
        },
        "id": "3PznmcH4C2Sr",
        "outputId": "8fed1c2a-ac70-4bbc-ca04-e1cf7d384bb7"
      },
      "execution_count": 77,
      "outputs": [
        {
          "output_type": "stream",
          "name": "stderr",
          "text": [
            "IOPub data rate exceeded.\n",
            "The notebook server will temporarily stop sending output\n",
            "to the client in order to avoid crashing it.\n",
            "To change this limit, set the config variable\n",
            "`--NotebookApp.iopub_data_rate_limit`.\n",
            "\n",
            "Current values:\n",
            "NotebookApp.iopub_data_rate_limit=1000000.0 (bytes/sec)\n",
            "NotebookApp.rate_limit_window=3.0 (secs)\n",
            "\n"
          ]
        }
      ]
    }
  ]
}