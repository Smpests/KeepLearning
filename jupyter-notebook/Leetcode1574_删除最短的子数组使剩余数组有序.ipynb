{
  "nbformat": 4,
  "nbformat_minor": 0,
  "metadata": {
    "colab": {
      "provenance": [],
      "authorship_tag": "ABX9TyMlukuOQThvAXdzJFzwub2w",
      "include_colab_link": true
    },
    "kernelspec": {
      "name": "python3",
      "display_name": "Python 3"
    },
    "language_info": {
      "name": "python"
    }
  },
  "cells": [
    {
      "cell_type": "markdown",
      "metadata": {
        "id": "view-in-github",
        "colab_type": "text"
      },
      "source": [
        "<a href=\"https://colab.research.google.com/github/Smpests/KeepLearning/blob/master/jupyter-notebook/Leetcode1574_%E5%88%A0%E9%99%A4%E6%9C%80%E7%9F%AD%E7%9A%84%E5%AD%90%E6%95%B0%E7%BB%84%E4%BD%BF%E5%89%A9%E4%BD%99%E6%95%B0%E7%BB%84%E6%9C%89%E5%BA%8F.ipynb\" target=\"_parent\"><img src=\"https://colab.research.google.com/assets/colab-badge.svg\" alt=\"Open In Colab\"/></a>"
      ]
    },
    {
      "cell_type": "markdown",
      "source": [
        "[Leetcode 1574.删除最短的子数组使剩余数组有序](https://leetcode.cn/problems/shortest-subarray-to-be-removed-to-make-array-sorted/)"
      ],
      "metadata": {
        "id": "Fxjp6Pj0c1Ac"
      }
    },
    {
      "cell_type": "code",
      "execution_count": 1,
      "metadata": {
        "colab": {
          "base_uri": "https://localhost:8080/"
        },
        "id": "Rdl4Js_-c0Pj",
        "outputId": "fc825ab1-91a7-4ece-fe98-93f01636f980"
      },
      "outputs": [
        {
          "output_type": "stream",
          "name": "stdout",
          "text": [
            "3\n"
          ]
        }
      ],
      "source": [
        "class Solution(object):\n",
        "    def findLengthOfShortestSubarray(self, arr):\n",
        "        \"\"\"\n",
        "        :type arr: List[int]\n",
        "        :rtype: int\n",
        "        \"\"\"\n",
        "        length = len(arr)\n",
        "        if length < 2:\n",
        "            return 0\n",
        "        # 子数组，则可以枚举左端点，使得删去子数组后，剩余数字非递减\n",
        "        right = length - 1\n",
        "        # 找到发生递减的右边界，若有多个，找到最右侧的\n",
        "        # 比如[1, 2, 4, 3]，则找到索引3，因为3比4小\n",
        "        while right > 0 and arr[right - 1] <= arr[right]:\n",
        "            right -= 1\n",
        "        # 如果right = 0，说明遍历到头也没发生递减，则整个数组都是非递减\n",
        "        if right == 0:\n",
        "            return 0\n",
        "        \n",
        "        left = 0\n",
        "        # 初始化要删除的子数组长度，即枚举的初始左边界和发生递减的右边界之间的距离\n",
        "        result = right - left\n",
        "        # 当在数组起始位置或者非递减时循环\n",
        "        while left == 0 or arr[left - 1] <= arr[left]:\n",
        "            # 不越界的前提下，如果right端点的值小于当前left的值，right应该向右移动，\n",
        "            # 因为在此left枚举处，中间的数组要被删除，\n",
        "            # 此时left左边的数加上right右边的数才是非递减的\n",
        "            while right < length and arr[right] < arr[left]:\n",
        "                right += 1\n",
        "            # right - left - 1，因为加上两个端点该区间的长度是索引right - left + 1，\n",
        "            # 减去两端点就是right - left - 1，也可以带入数据推一下公式\n",
        "            result = min(result, right - left- 1)\n",
        "            # 枚举下一个点\n",
        "            left += 1\n",
        "        return result\n",
        "solution = Solution()\n",
        "res = solution.findLengthOfShortestSubarray([1,2,3,10,4,2,3,5])\n",
        "print(res)\n",
        "assert res == 3"
      ]
    }
  ]
}