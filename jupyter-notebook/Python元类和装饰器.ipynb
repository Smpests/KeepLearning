{
  "nbformat": 4,
  "nbformat_minor": 0,
  "metadata": {
    "colab": {
      "provenance": [],
      "authorship_tag": "ABX9TyPiDKboYcYg/w5eMNEDmXo8",
      "include_colab_link": true
    },
    "kernelspec": {
      "name": "python3",
      "display_name": "Python 3"
    },
    "language_info": {
      "name": "python"
    }
  },
  "cells": [
    {
      "cell_type": "markdown",
      "metadata": {
        "id": "view-in-github",
        "colab_type": "text"
      },
      "source": [
        "<a href=\"https://colab.research.google.com/github/Smpests/KeepLearning/blob/master/jupyter-notebook/Python%E5%85%83%E7%B1%BB%E5%92%8C%E8%A3%85%E9%A5%B0%E5%99%A8.ipynb\" target=\"_parent\"><img src=\"https://colab.research.google.com/assets/colab-badge.svg\" alt=\"Open In Colab\"/></a>"
      ]
    },
    {
      "cell_type": "code",
      "execution_count": 57,
      "metadata": {
        "colab": {
          "base_uri": "https://localhost:8080/"
        },
        "id": "H5gY9Mn0hDlm",
        "outputId": "9028f3cd-7255-484c-f8c6-fed52e83e1c9"
      },
      "outputs": [
        {
          "output_type": "stream",
          "name": "stdout",
          "text": [
            "this is meta __new__\n",
            "this is meta\n",
            "this is meta __new__\n",
            "this is meta\n",
            "create\n",
            "this is base __new__\n",
            "this is son __new__\n",
            "this is father\n",
            "this is son\n",
            "{'weight': 20, 'name': 'Lily', 'age': 18}\n",
            "{'weight': 20, 'name': 'Lily', 'age': 18}\n",
            "create\n"
          ]
        }
      ],
      "source": [
        "# 元类实现单例模式\n",
        "\n",
        "\"\"\" \n",
        "写在前面：\n",
        "元类（metaclass）的作用类似于类的类或者实例工厂，\n",
        "区别于基类，它不做抽象，只通过重写与实例化、初始化的相关方法，来改变对象的实例化过程和表现。\n",
        "基类则是在顶层抽象，对类进行扩展。\n",
        "\"\"\"\n",
        "class TestMeta(type):\n",
        "  def __init__(cls, *args, **kwargs):\n",
        "    cls.__instance = None\n",
        "    super().__init__(*args, **kwargs)\n",
        "    print(\"this is meta\")\n",
        "\n",
        "  def __new__(cls, *args, **kwargs):\n",
        "    print(\"this is meta __new__\")\n",
        "    return super().__new__(cls, *args, **kwargs)\n",
        "  \n",
        "  def __call__(cls, *args, **kwargs):\n",
        "    if cls.__instance is None:\n",
        "      print(\"create\")\n",
        "      cls.__instance = super().__call__(*args, **kwargs)\n",
        "    return cls.__instance\n",
        "\n",
        "class TestBase(object):\n",
        "  def __init__(self):\n",
        "    super().__init__()\n",
        "    print(\"this is father\")\n",
        "  \n",
        "  def __new__(cls, weight=20, *args, **kwargs):\n",
        "    print(\"this is base __new__\")\n",
        "    instance = super().__new__(cls, *args, **kwargs)\n",
        "    instance.weight = weight\n",
        "    return instance\n",
        "  def __call__(cls, *args, **kwargs):\n",
        "    return super().__call__(*args, **kwargs)\n",
        "\n",
        "\n",
        "class Test(TestBase, metaclass=TestMeta):\n",
        "  def __init__(self, name, age):\n",
        "    super().__init__()\n",
        "    self.name = name\n",
        "    self.age = age\n",
        "    print(\"this is son\")\n",
        "\n",
        "  def __new__(cls, *args, **kwargs):\n",
        "    instance = super().__new__(cls)\n",
        "    print(\"this is son __new__\")\n",
        "    return instance\n",
        "\n",
        "class T2(metaclass=TestMeta):\n",
        "\n",
        "  def __new__(cls, *args, **kwargs):\n",
        "    return super().__new__(cls)\n",
        "\n",
        "\n",
        "t = Test(\"Lily\", 18)\n",
        "print(t.__dict__)\n",
        "u = Test(\"Xiaoming\", 20)\n",
        "print(u.__dict__)\n",
        "t2 = T2()\n"
      ]
    },
    {
      "cell_type": "code",
      "source": [
        "from functools import wraps\n",
        "\n",
        "# 通过装饰器实现单例对象，维护一个单例对象哈希表\n",
        "\n",
        "# 装饰器函数\n",
        "def singleton(cls):\n",
        "  instances = {}\n",
        "  \n",
        "  # 不写@wraps(cls)无法获取cls类的原始属性，如name、doc等基础信息，不写得到的是装饰器方法的信息\n",
        "  @wraps(cls)\n",
        "  def wrapper(*args, **kwargs):\n",
        "    if cls not in instances:\n",
        "      instances[cls] = cls(*args, **kwargs)\n",
        "    return instances[cls]\n",
        "  return wrapper\n",
        "\n",
        "# 装饰器类\n",
        "class Decorator:\n",
        "  instances = {}\n",
        "  def __init__(self, cls):\n",
        "    self.cls = cls\n",
        "  \n",
        "  def __call__(self, *args, **kwargs):\n",
        "    if self.cls not in self.instances:\n",
        "      self.instances[self.cls] = self.cls(*args, **kwargs)     \n",
        "    return self.instances[self.cls]\n",
        "\n",
        "@singleton\n",
        "class SingletonClass:\n",
        "  def __init__(self, name):\n",
        "    self.name = name\n",
        "\n",
        "@Decorator\n",
        "class SingletonClass2:\n",
        "  def __init__(self, name):\n",
        "    self.name = name\n",
        "\n",
        "s1 = SingletonClass(\"小张\")\n",
        "s2 = SingletonClass(\"小李\")\n",
        "print(s1.__dict__)\n",
        "print(s2.__dict__)\n",
        "\n",
        "s3 = SingletonClass2(\"小王\")\n",
        "s4 = SingletonClass2(\"小刘\")\n",
        "print(s3.__dict__)\n",
        "print(s4.__dict__)"
      ],
      "metadata": {
        "colab": {
          "base_uri": "https://localhost:8080/"
        },
        "id": "sNs-hYmYPgs-",
        "outputId": "e740ba9d-cc45-42f0-8d95-5543b7ef1168"
      },
      "execution_count": 61,
      "outputs": [
        {
          "output_type": "stream",
          "name": "stdout",
          "text": [
            "{'name': '小张'}\n",
            "{'name': '小张'}\n",
            "{'name': '小王'}\n",
            "{'name': '小王'}\n"
          ]
        }
      ]
    },
    {
      "cell_type": "code",
      "source": [
        "from copy import copy, deepcopy\n",
        "from functools import wraps\n",
        "\n",
        "# 基于元类的原型模式\n",
        "class PrototypeMeta(type):\n",
        "  def __init__(cls, *args, **kwargs):\n",
        "    super().__init__(*args, **kwargs)\n",
        "    cls.clone = lambda self, deep=True: deepcopy(self) if deep else copy(self)\n",
        "\n",
        "class CloneableClass(metaclass=PrototypeMeta):\n",
        "  def __init__(self, names=[]):\n",
        "    self.names = names\n",
        "\n",
        "a = CloneableClass([\"老马\", \"茄子\"])\n",
        "b = a.clone()\n",
        "c = a.clone(deep=False)\n",
        "b.names.append(\"老朴\")\n",
        "c.names.append(\"枣子\")\n",
        "print(a.__dict__)\n",
        "print(b.__dict__)\n",
        "print(c.__dict__)"
      ],
      "metadata": {
        "colab": {
          "base_uri": "https://localhost:8080/"
        },
        "id": "5D9i3CA-UFpU",
        "outputId": "fd161d70-d748-40ad-f8a7-9a03895535cb"
      },
      "execution_count": 69,
      "outputs": [
        {
          "output_type": "stream",
          "name": "stdout",
          "text": [
            "{'names': ['老马', '茄子', '枣子']}\n",
            "{'names': ['老马', '茄子', '老朴']}\n",
            "{'names': ['老马', '茄子', '枣子']}\n"
          ]
        }
      ]
    }
  ]
}