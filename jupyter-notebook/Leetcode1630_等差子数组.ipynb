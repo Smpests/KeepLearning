{
  "nbformat": 4,
  "nbformat_minor": 0,
  "metadata": {
    "colab": {
      "provenance": [],
      "authorship_tag": "ABX9TyNWEVWDxyY5QPM4FuK0e+92",
      "include_colab_link": true
    },
    "kernelspec": {
      "name": "python3",
      "display_name": "Python 3"
    },
    "language_info": {
      "name": "python"
    }
  },
  "cells": [
    {
      "cell_type": "markdown",
      "metadata": {
        "id": "view-in-github",
        "colab_type": "text"
      },
      "source": [
        "<a href=\"https://colab.research.google.com/github/Smpests/KeepLearning/blob/master/jupyter-notebook/Leetcode1630_%E7%AD%89%E5%B7%AE%E5%AD%90%E6%95%B0%E7%BB%84.ipynb\" target=\"_parent\"><img src=\"https://colab.research.google.com/assets/colab-badge.svg\" alt=\"Open In Colab\"/></a>"
      ]
    },
    {
      "cell_type": "markdown",
      "source": [
        "[Leetcode 1630.等差子数组](https://leetcode.cn/problems/arithmetic-subarrays/)"
      ],
      "metadata": {
        "id": "gSGE2hj11-nx"
      }
    },
    {
      "cell_type": "code",
      "execution_count": 2,
      "metadata": {
        "colab": {
          "base_uri": "https://localhost:8080/"
        },
        "id": "sh2JzCDS10My",
        "outputId": "45a36e0f-af37-461c-db39-7b7358981eb0"
      },
      "outputs": [
        {
          "output_type": "stream",
          "name": "stdout",
          "text": [
            "[True, False, True]\n"
          ]
        }
      ],
      "source": [
        "class Solution(object):\n",
        "    def checkArithmeticSubarrays(self, nums, l, r):\n",
        "        \"\"\"\n",
        "        :type nums: List[int]\n",
        "        :type l: List[int]\n",
        "        :type r: List[int]\n",
        "        :rtype: List[bool]\n",
        "        \"\"\"\n",
        "        m = len(l)\n",
        "        n = len(nums)\n",
        "        answer = []\n",
        "        # 初始版本\n",
        "        # for i in range(m):\n",
        "        #     sorted_sub_arr = sorted(nums[l[i]:r[i] + 1])\n",
        "        #     d = sorted_sub_arr[1] - sorted_sub_arr[0]\n",
        "        #     false_flag = False\n",
        "        #     for index in range(2, len(sorted_sub_arr)):\n",
        "        #         if sorted_sub_arr[index] - sorted_sub_arr[index - 1] != d:\n",
        "        #             false_flag = True\n",
        "        #             break\n",
        "        #     if false_flag:\n",
        "        #         answer.append(False)\n",
        "        #     else:\n",
        "        #         answer.append(True)\n",
        "        # 用all()简写\n",
        "        for start, end in zip(l, r):\n",
        "            sorted_sub_arr = sorted(nums[start:end + 1])\n",
        "            sub_len = len(sorted_sub_arr)\n",
        "            # 最大数和最小数无法计算公差，则false\n",
        "            if (sorted_sub_arr[-1] - sorted_sub_arr[0]) % (sub_len - 1) != 0:\n",
        "                answer.append(False)\n",
        "            else:\n",
        "                d = sorted_sub_arr[1] - sorted_sub_arr[0]\n",
        "                answer.append(all(sorted_sub_arr[i] - sorted_sub_arr[i - 1] == d for i in range(2, sub_len)))\n",
        "        return answer\n",
        "\n",
        "solution = Solution()\n",
        "res = solution.checkArithmeticSubarrays([4, 6, 5, 9, 3, 7], [0, 0, 2], [2, 3, 5])\n",
        "print(res)\n",
        "assert res == [True, False, True]"
      ]
    }
  ]
}