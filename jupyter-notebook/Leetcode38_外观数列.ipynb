{
  "nbformat": 4,
  "nbformat_minor": 0,
  "metadata": {
    "colab": {
      "provenance": [],
      "authorship_tag": "ABX9TyMXs3Y5y8DgyTtQZn0O417F",
      "include_colab_link": true
    },
    "kernelspec": {
      "name": "python3",
      "display_name": "Python 3"
    },
    "language_info": {
      "name": "python"
    }
  },
  "cells": [
    {
      "cell_type": "markdown",
      "metadata": {
        "id": "view-in-github",
        "colab_type": "text"
      },
      "source": [
        "<a href=\"https://colab.research.google.com/github/Smpests/KeepLearning/blob/master/jupyter-notebook/Leetcode38_%E5%A4%96%E8%A7%82%E6%95%B0%E5%88%97.ipynb\" target=\"_parent\"><img src=\"https://colab.research.google.com/assets/colab-badge.svg\" alt=\"Open In Colab\"/></a>"
      ]
    },
    {
      "cell_type": "markdown",
      "source": [
        "[Leetcode 38.外观数列](https://leetcode.cn/problems/count-and-say/)"
      ],
      "metadata": {
        "id": "NRMGDVrDn0b2"
      }
    },
    {
      "cell_type": "code",
      "execution_count": 2,
      "metadata": {
        "colab": {
          "base_uri": "https://localhost:8080/"
        },
        "id": "uPB7u8UWntPx",
        "outputId": "88cdb7de-1ab5-4561-f74b-f28d31f06fc2"
      },
      "outputs": [
        {
          "output_type": "stream",
          "name": "stdout",
          "text": [
            "111221\n"
          ]
        }
      ],
      "source": [
        "class Solution:\n",
        "    # 回溯\n",
        "    def countAndSay_Backtrace(self, n: int) -> str:\n",
        "        if n == 1:\n",
        "            return str(1)\n",
        "        appearanceNumber = self.countAndSay(n - 1)\n",
        "        describe = []\n",
        "        # 初始化为第一个数字\n",
        "        count = 1\n",
        "        cur = appearanceNumber[0]\n",
        "        for i in range(1, len(appearanceNumber)):\n",
        "            # 若等于前面的数字，计数器+1\n",
        "            if appearanceNumber[i] == cur:\n",
        "                count += 1\n",
        "            else:\n",
        "                # 添加后，重置计数器和当前字符\n",
        "                describe.append(str(count))\n",
        "                describe.append(cur)\n",
        "                count = 1\n",
        "                cur = appearanceNumber[i]\n",
        "        describe.append(str(count))\n",
        "        describe.append(cur)\n",
        "        return \"\".join(describe)\n",
        "\n",
        "    # 递推要快些，另外字符串直接拼接比join慢\n",
        "    def countAndSay(self, n: int) -> str:\n",
        "        appearanceNumber = \"1\"\n",
        "        for _ in range(n - 1):\n",
        "            count = 1\n",
        "            cur = appearanceNumber[0]\n",
        "            describe = []\n",
        "            for i in range(1, len(appearanceNumber)):\n",
        "                # 若等于前面的数字，计数器+1\n",
        "                if appearanceNumber[i] == cur:\n",
        "                    count += 1\n",
        "                else:\n",
        "                    # 添加后，重置计数器和当前字符\n",
        "                    describe.append(str(count))\n",
        "                    describe.append(cur)\n",
        "                    count = 1\n",
        "                    cur = appearanceNumber[i]\n",
        "            describe.append(str(count))\n",
        "            describe.append(cur)\n",
        "            appearanceNumber = \"\".join(describe)\n",
        "        return appearanceNumber\n",
        "\n",
        "\n",
        "res = Solution().countAndSay(5)\n",
        "print(res)\n",
        "assert res == \"111221\""
      ]
    }
  ]
}