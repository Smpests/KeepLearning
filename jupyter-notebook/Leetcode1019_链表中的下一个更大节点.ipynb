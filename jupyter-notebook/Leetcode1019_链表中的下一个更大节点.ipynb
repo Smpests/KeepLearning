{
  "nbformat": 4,
  "nbformat_minor": 0,
  "metadata": {
    "colab": {
      "provenance": [],
      "authorship_tag": "ABX9TyPiaiNwAi67WCoJhNSs9i/C",
      "include_colab_link": true
    },
    "kernelspec": {
      "name": "python3",
      "display_name": "Python 3"
    },
    "language_info": {
      "name": "python"
    }
  },
  "cells": [
    {
      "cell_type": "markdown",
      "metadata": {
        "id": "view-in-github",
        "colab_type": "text"
      },
      "source": [
        "<a href=\"https://colab.research.google.com/github/Smpests/KeepLearning/blob/master/Leetcode1019_%E9%93%BE%E8%A1%A8%E4%B8%AD%E7%9A%84%E4%B8%8B%E4%B8%80%E4%B8%AA%E6%9B%B4%E5%A4%A7%E8%8A%82%E7%82%B9.ipynb\" target=\"_parent\"><img src=\"https://colab.research.google.com/assets/colab-badge.svg\" alt=\"Open In Colab\"/></a>"
      ]
    },
    {
      "cell_type": "markdown",
      "source": [
        "[Leetcode 1019. 链表中的下一个更大节点](https://leetcode.cn/problems/next-greater-node-in-linked-list/)"
      ],
      "metadata": {
        "id": "ADaPk-bP4NCE"
      }
    },
    {
      "cell_type": "code",
      "source": [
        "from typing import Optional, List\n",
        "\n",
        "# Definition for singly-linked list.\n",
        "class ListNode:\n",
        "    def __init__(self, val=0, next=None):\n",
        "        self.val = val\n",
        "        self.next = next\n",
        "\n",
        "class Solution:\n",
        "    def nextLargerNodes(self, head: Optional[ListNode]) -> List[int]:\n",
        "        answer = []\n",
        "        # 栈保存单调递增的数据，从递归尾部返回时，删除栈中比当前节点值小的数(pop)\n",
        "        stack = []\n",
        "        self.backtrace(head, answer, stack)\n",
        "        # 因从后往前，需要翻转一下再输出\n",
        "        return answer[::-1]\n",
        "        \n",
        "    \n",
        "    def backtrace(self, head: Optional[ListNode], answer: List, stack: List):\n",
        "        # 后边没数了\n",
        "        if not head.next:\n",
        "            answer.append(0)\n",
        "            stack.append(head.val)\n",
        "            return\n",
        "        self.backtrace(head.next, answer, stack)\n",
        "        while stack:\n",
        "            if head.val < stack[-1]:\n",
        "                answer.append(stack[-1])\n",
        "                break\n",
        "            else:\n",
        "                stack.pop()\n",
        "        if not stack:\n",
        "            answer.append(0)\n",
        "        stack.append(head.val)\n",
        "        [2,1,5]\n",
        "res = Solution().nextLargerNodes(ListNode(2, ListNode(1, ListNode(5))))\n",
        "print(res)\n",
        "assert res == [5,5,0]"
      ],
      "metadata": {
        "id": "byO2DBsBCpve",
        "outputId": "efd9d557-a5e9-488a-96ea-48e07002837d",
        "colab": {
          "base_uri": "https://localhost:8080/"
        }
      },
      "execution_count": 1,
      "outputs": [
        {
          "output_type": "stream",
          "name": "stdout",
          "text": [
            "[5, 5, 0]\n"
          ]
        }
      ]
    }
  ]
}