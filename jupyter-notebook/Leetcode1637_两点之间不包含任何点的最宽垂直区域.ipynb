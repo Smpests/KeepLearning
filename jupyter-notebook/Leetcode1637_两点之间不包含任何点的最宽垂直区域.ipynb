{
  "nbformat": 4,
  "nbformat_minor": 0,
  "metadata": {
    "colab": {
      "provenance": [],
      "authorship_tag": "ABX9TyOFLamZs06lYjKp4YaeZ+TU",
      "include_colab_link": true
    },
    "kernelspec": {
      "name": "python3",
      "display_name": "Python 3"
    },
    "language_info": {
      "name": "python"
    }
  },
  "cells": [
    {
      "cell_type": "markdown",
      "metadata": {
        "id": "view-in-github",
        "colab_type": "text"
      },
      "source": [
        "<a href=\"https://colab.research.google.com/github/Smpests/KeepLearning/blob/master/jupyter-notebook/Leetcode1637_%E4%B8%A4%E7%82%B9%E4%B9%8B%E9%97%B4%E4%B8%8D%E5%8C%85%E5%90%AB%E4%BB%BB%E4%BD%95%E7%82%B9%E7%9A%84%E6%9C%80%E5%AE%BD%E5%9E%82%E7%9B%B4%E5%8C%BA%E5%9F%9F.ipynb\" target=\"_parent\"><img src=\"https://colab.research.google.com/assets/colab-badge.svg\" alt=\"Open In Colab\"/></a>"
      ]
    },
    {
      "cell_type": "markdown",
      "source": [
        "[Leetcode 1637.两点之间不包含任何点的最宽垂直区域](https://leetcode.cn/problems/widest-vertical-area-between-two-points-containing-no-points/)"
      ],
      "metadata": {
        "id": "cFo73hKRSHcv"
      }
    },
    {
      "cell_type": "code",
      "execution_count": 9,
      "metadata": {
        "colab": {
          "base_uri": "https://localhost:8080/"
        },
        "id": "10nJACjiSFGF",
        "outputId": "dc92a6bf-5e3d-4804-b3fe-5fa5d375ac01"
      },
      "outputs": [
        {
          "output_type": "stream",
          "name": "stdout",
          "text": [
            "1\n"
          ]
        }
      ],
      "source": [
        "from typing import List\n",
        "# pairwise的包python3.10才有\n",
        "# from itertools import pairwise\n",
        "class Solution:\n",
        "    def maxWidthOfVerticalArea(self, points: List[List[int]]) -> int:\n",
        "        \"\"\"\n",
        "        :type points: List[List[int]]\n",
        "        :rtype: int\n",
        "        \"\"\"\n",
        "        sorted_points = sorted(points, key=lambda x: x[0])\n",
        "        maxWidth = sorted_points[1][0] - sorted_points[0][0]\n",
        "        for i in range(2, len(sorted_points)):\n",
        "            maxWidth = max(sorted_points[i][0] - sorted_points[i - 1][0], maxWidth)\n",
        "        return maxWidth\n",
        "        # 简写，pairwise输出可迭代对象中的连续两个，如\"abc\"，输出\"ab\"、“bc”\n",
        "        return max([y[0] - x[0] for x, y in pairwise(sorted_points)])\n",
        "\n",
        "res = Solution().maxWidthOfVerticalArea([[8,7],[9,9],[7,4],[9,7]])\n",
        "print(res)\n",
        "assert res == 1"
      ]
    }
  ]
}