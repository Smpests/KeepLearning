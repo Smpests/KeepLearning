{
  "nbformat": 4,
  "nbformat_minor": 0,
  "metadata": {
    "colab": {
      "provenance": [],
      "authorship_tag": "ABX9TyPxfZ3lSvX7QnMtH2YxeJ5U",
      "include_colab_link": true
    },
    "kernelspec": {
      "name": "python3",
      "display_name": "Python 3"
    },
    "language_info": {
      "name": "python"
    }
  },
  "cells": [
    {
      "cell_type": "markdown",
      "metadata": {
        "id": "view-in-github",
        "colab_type": "text"
      },
      "source": [
        "<a href=\"https://colab.research.google.com/github/Smpests/KeepLearning/blob/master/jupyter-notebook/Leetcode1032_%E5%AD%97%E7%AC%A6%E6%B5%81.ipynb\" target=\"_parent\"><img src=\"https://colab.research.google.com/assets/colab-badge.svg\" alt=\"Open In Colab\"/></a>"
      ]
    },
    {
      "cell_type": "markdown",
      "source": [
        "[1032.字符流](https://leetcode.cn/problems/stream-of-characters/)"
      ],
      "metadata": {
        "id": "clhmK0Xcy7zX"
      }
    },
    {
      "cell_type": "code",
      "source": [
        "# 字典树AC自动机，查找字符串是否包含某些字符串，比正则快\n",
        "\n",
        "class TrieNode(object):\n",
        "  # 题外话，init和new方法区别，new有返回值，返回该对象的实例\n",
        "  # init类似构造函数，为属性设置值\n",
        "  def __init__(self):\n",
        "    # 当前节点的子节点，因为字母有26个，都有可能跟在当前节点的后面，\n",
        "    # 所以是一个长度为26的数组\n",
        "    self.children = [None] * 26\n",
        "    # 当前节点是否是某个字符串的结尾（大串包含子串，会在一条链上）\n",
        "    self.is_end = False\n",
        "\n",
        "class Trie(object):\n",
        "\n",
        "  def __init__(self):\n",
        "    self.root = TrieNode()\n",
        "\n",
        "  def insert(self, word: str):\n",
        "    node = self.root\n",
        "    # [start:end:step]\n",
        "    for character in word[::-1]:\n",
        "      # 字符在字母表的顺序\n",
        "      idx = ord(character) - ord('a')\n",
        "      if node.children[idx] is None:\n",
        "        node.children[idx] = TrieNode()\n",
        "      node = node.children[idx]\n",
        "    # 插入的最后一个字符打上结尾标记\n",
        "    node.is_end = True\n",
        "\n",
        "  def search(self, character_stream) -> bool:\n",
        "    # 从树顶开始检索\n",
        "    node = self.root\n",
        "    for character in character_stream[::-1]:\n",
        "      idx = ord(character) - ord('a')\n",
        "      # 当前节点的子节点没有该字符\n",
        "      if node.children[idx] == None:\n",
        "        return False\n",
        "      node = node.children[idx]\n",
        "      # 已经匹配到某个字符串的末尾（反转过实际上是头）\n",
        "      if node.is_end:\n",
        "        return True\n",
        "    # 遍历完没返回，说明没有搜索到\n",
        "    return False"
      ],
      "metadata": {
        "id": "G36VX6Ts6Gu0"
      },
      "execution_count": 3,
      "outputs": []
    },
    {
      "cell_type": "code",
      "execution_count": 4,
      "metadata": {
        "id": "EVOqPrAGyo_J"
      },
      "outputs": [],
      "source": [
        "class StreamChecker(object):\n",
        "\n",
        "    def __init__(self, words):\n",
        "        \"\"\"\n",
        "        :type words: List[str]\n",
        "        \"\"\"\n",
        "        self.trie = Trie()\n",
        "        # 连续的字符流，用数组记录历史值\n",
        "        self.char_stream = []\n",
        "        # 题目限制字符数量200\n",
        "        self.max_length = 201\n",
        "        # 构建字典树\n",
        "        for word in words:\n",
        "          self.trie.insert(word)\n",
        "\n",
        "\n",
        "    def query(self, letter):\n",
        "        \"\"\"\n",
        "        :type letter: str\n",
        "        :rtype: bool\n",
        "        \"\"\"\n",
        "        # 新输入添加到字符流\n",
        "        self.char_stream.append(letter)\n",
        "        return self.trie.search(self.char_stream[-self.max_length:])\n",
        "\n",
        "    def clear_stream(self):\n",
        "      \"\"\"\n",
        "      清空stream，可以接收新的字符流\n",
        "      \"\"\"\n",
        "      self.char_stream = []"
      ]
    },
    {
      "cell_type": "code",
      "source": [
        "# 测试\n",
        "\n",
        "stream_checker: StreamChecker = StreamChecker([\"cd\", \"f\", \"kl\"])\n",
        "\n",
        "print(stream_checker.query(\"a\"))\n",
        "stream_checker.query(\"b\")\n",
        "stream_checker.query(\"c\")\n",
        "stream_checker.query(\"d\")\n",
        "stream_checker.query(\"e\")\n",
        "stream_checker.query(\"f\")\n",
        "stream_checker.query(\"g\")\n",
        "stream_checker.query(\"h\")\n",
        "stream_checker.query(\"i\")\n",
        "stream_checker.query(\"j\")\n",
        "stream_checker.query(\"k\")\n",
        "stream_checker.query(\"l\")"
      ],
      "metadata": {
        "colab": {
          "base_uri": "https://localhost:8080/"
        },
        "id": "Dg-P8MuCEzDd",
        "outputId": "71fb1a3f-0ab0-4149-bd33-d04cb14be30c"
      },
      "execution_count": 11,
      "outputs": [
        {
          "output_type": "stream",
          "name": "stdout",
          "text": [
            "False\n"
          ]
        },
        {
          "output_type": "execute_result",
          "data": {
            "text/plain": [
              "True"
            ]
          },
          "metadata": {},
          "execution_count": 11
        }
      ]
    }
  ]
}