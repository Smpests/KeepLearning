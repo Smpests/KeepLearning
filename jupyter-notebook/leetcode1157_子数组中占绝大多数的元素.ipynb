{
  "nbformat": 4,
  "nbformat_minor": 0,
  "metadata": {
    "colab": {
      "provenance": [],
      "authorship_tag": "ABX9TyN/yLkB+kMrQrCe4+lp/erb",
      "include_colab_link": true
    },
    "kernelspec": {
      "name": "python3",
      "display_name": "Python 3"
    },
    "language_info": {
      "name": "python"
    }
  },
  "cells": [
    {
      "cell_type": "markdown",
      "metadata": {
        "id": "view-in-github",
        "colab_type": "text"
      },
      "source": [
        "<a href=\"https://colab.research.google.com/github/Smpests/KeepLearning/blob/master/jupyter-notebook/leetcode1157_%E5%AD%90%E6%95%B0%E7%BB%84%E4%B8%AD%E5%8D%A0%E7%BB%9D%E5%A4%A7%E5%A4%9A%E6%95%B0%E7%9A%84%E5%85%83%E7%B4%A0.ipynb\" target=\"_parent\"><img src=\"https://colab.research.google.com/assets/colab-badge.svg\" alt=\"Open In Colab\"/></a>"
      ]
    },
    {
      "cell_type": "markdown",
      "source": [
        "[leetcode 1157. 子数组中占绝大多数的元素](https://leetcode.cn/problems/online-majority-element-in-subarray/)"
      ],
      "metadata": {
        "id": "X0v0f2tGvMkI"
      }
    },
    {
      "cell_type": "code",
      "execution_count": null,
      "metadata": {
        "id": "aQWtqyParlwd"
      },
      "outputs": [],
      "source": [
        "from functools import lru_cache\n",
        "from collections import Counter\n",
        "\n",
        "class MajorityChecker:\n",
        "\n",
        "    def __init__(self, arr: List[int]):\n",
        "        self.arr = arr\n",
        "    \n",
        "    @lru_cache\n",
        "    def counter(self, left: int, right: int):\n",
        "        max_k = self.arr[left]\n",
        "        max_v = 1\n",
        "        counter_dict = {max_k: max_v}\n",
        "        for num in self.arr[left + 1:right + 1]:\n",
        "            if num in counter_dict:\n",
        "                counter_dict[num] += 1\n",
        "                if counter_dict[num] > max_v:\n",
        "                    max_k = num\n",
        "                    max_v = counter_dict[num]\n",
        "            else:\n",
        "                counter_dict[num] = 1\n",
        "        return max_k, max_v\n",
        "    \n",
        "    def query(self, left: int, right: int, threshold: int) -> int:\n",
        "        max_k, max_v = self.counter(left, right)\n",
        "        if max_v >= threshold:\n",
        "            return max_k\n",
        "        return -1\n",
        "\n",
        "    # @ lru_cache\n",
        "    # def findMaxValueKey(self, counter_dict):\n",
        "    #     max_v = 0\n",
        "    #     max_k = None\n",
        "    #     for k, v in counter_dict.items():\n",
        "    #         if v > max_v:\n",
        "    #             max_k = k\n",
        "    #             max_v = v\n",
        "    #     return max_k, max_v\n",
        "    \n",
        "    # def query(self, left: int, right: int, threshold: int) -> int:\n",
        "    #     max_k, max_v = self.findMaxValueKey(self.counter(left, right))\n",
        "    #     if max_v >= threshold:\n",
        "    #         return max_k\n",
        "    #     return -1\n",
        "\n",
        "    # @ lru_cache\n",
        "    # def moreThanHalf(self, left: int, right: int) -> int:\n",
        "    #     ele = self.arr[left]\n",
        "    #     counter = 1\n",
        "    #     for i in range(left + 1, right + 1):\n",
        "    #         if ele == self.arr[i]:\n",
        "    #             counter += 1\n",
        "    #         elif counter == 0:\n",
        "    #             ele = self.arr[i]\n",
        "    #             counter += 1\n",
        "    #         else:\n",
        "    #             counter -= 1\n",
        "    #     if counter == 0:\n",
        "    #         return -1\n",
        "    #     return ele\n",
        "\n",
        "    # @ lru_cache\n",
        "    # def counter(self, num: int, left: int, right: int):\n",
        "    #     count = 0\n",
        "    #     for ele in self.arr[left:right + 1]:\n",
        "    #         if ele == num:\n",
        "    #             count += 1\n",
        "    #     return count\n",
        "\n",
        "    # def query(self, left: int, right: int, threshold: int) -> int:\n",
        "    #     ele = self.moreThanHalf(left, right)\n",
        "    #     if ele == -1:\n",
        "    #         return -1\n",
        "    #     else:\n",
        "    #         count = self.counter(ele, left, right)\n",
        "    #         if count >= threshold:\n",
        "    #             return ele\n",
        "    #         return -1\n",
        "                \n",
        "        \n",
        "# Your MajorityChecker object will be instantiated and called as such:\n",
        "# obj = MajorityChecker(arr)\n",
        "# param_1 = obj.query(left,right,threshold)"
      ]
    }
  ]
}