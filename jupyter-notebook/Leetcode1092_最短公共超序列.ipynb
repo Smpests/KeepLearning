{
  "nbformat": 4,
  "nbformat_minor": 0,
  "metadata": {
    "colab": {
      "provenance": [],
      "authorship_tag": "ABX9TyOYudft7knkKMRFpyzAY1A0",
      "include_colab_link": true
    },
    "kernelspec": {
      "name": "python3",
      "display_name": "Python 3"
    },
    "language_info": {
      "name": "python"
    }
  },
  "cells": [
    {
      "cell_type": "markdown",
      "metadata": {
        "id": "view-in-github",
        "colab_type": "text"
      },
      "source": [
        "<a href=\"https://colab.research.google.com/github/Smpests/KeepLearning/blob/master/jupyter-notebook/Leetcode1092_%E6%9C%80%E7%9F%AD%E5%85%AC%E5%85%B1%E8%B6%85%E5%BA%8F%E5%88%97.ipynb\" target=\"_parent\"><img src=\"https://colab.research.google.com/assets/colab-badge.svg\" alt=\"Open In Colab\"/></a>"
      ]
    },
    {
      "cell_type": "markdown",
      "source": [
        "[Leetcode1092.最短公共超序列](https://leetcode.cn/problems/shortest-common-supersequence/)"
      ],
      "metadata": {
        "id": "sd8rw-ttFRCB"
      }
    },
    {
      "cell_type": "code",
      "execution_count": 1,
      "metadata": {
        "id": "UBBLAxM1E-Xz",
        "colab": {
          "base_uri": "https://localhost:8080/"
        },
        "outputId": "4850ddb7-c97e-4758-eeb3-3acee721c770"
      },
      "outputs": [
        {
          "output_type": "stream",
          "name": "stdout",
          "text": [
            "cabac\n"
          ]
        }
      ],
      "source": [
        "class Solution(object):\n",
        "    def shortestCommonSupersequence(self, str1, str2):\n",
        "        \"\"\"\n",
        "        :type str1: str\n",
        "        :type str2: str\n",
        "        :rtype: str\n",
        "        \"\"\"\n",
        "        m = len(str1)\n",
        "        n = len(str2)\n",
        "        # 多出一行一列存储初始状态值\n",
        "        # 如：第0行str2没有字符，最短超序列就是str1每个子任务的长度\n",
        "        dp = [[0] * (n + 1) for _ in range(m + 1)]\n",
        "        dp[0] = list(range(n + 1))\n",
        "        for i in range(1, m + 1):\n",
        "            # 0列初始值为str2每个子任务的长度\n",
        "            dp[i][0] = i\n",
        "        for i, ch1 in enumerate(str1):\n",
        "            for j, ch2 in enumerate(str2):\n",
        "                # 如果ch1和ch2相等，则在无此2字符前（i, j）处的最短长度+1，\n",
        "                # 即当前字符肯定成为当前子任务答案的结尾\n",
        "                if ch1 == ch2:\n",
        "                    # 因为i = 0和j = 0时的值已经初始化，\n",
        "                    # 所以循环内设置的值为i+1和j+1\n",
        "                    dp[i + 1][j + 1] = dp[i][j] + 1\n",
        "                else:\n",
        "                    # 若不等,\n",
        "                    # 取(i, j + 1)表示上个以ch1结尾的任务的超序列长度（在未加入ch2加入ch1的时候长度是多少，在行上看从上到下），\n",
        "                    # 取(i + 1, j)表示上个以ch2结尾的任务的超序列长度（在未加入ch1加入ch2的时候长度是多少，在列上看从左到右），\n",
        "                    # 去上述两种方案中较短的方向，加1（算上未被加入的那个字符的长度）\n",
        "                    # dp [i + 1][j + 1] = min(dp[i][j + 1], dp[i + 1][j]) + 1\n",
        "                    if dp[i][j + 1] <= dp[i + 1][j]:\n",
        "                        dp[i + 1][j + 1] = dp[i][j + 1] + 1\n",
        "                    else:\n",
        "                        dp[i + 1][j + 1] = dp[i + 1][j] + 1\n",
        "        # 取出最短路径上的字符\n",
        "        answer = []\n",
        "        i = m - 1\n",
        "        j = n - 1\n",
        "        # 倒推，所以最后的结果要倒着输出才正确\n",
        "        # 和上面的过程一样，相同直接添加，不同选择短边添加\n",
        "        while i >= 0 and j >= 0:\n",
        "            if str1[i] == str2[j]:\n",
        "                answer.append(str1[i])\n",
        "                i -= 1\n",
        "                j -= 1\n",
        "            elif dp[i + 1][j + 1] == dp[i][j + 1] + 1:\n",
        "                answer.append(str1[i])\n",
        "                i -= 1\n",
        "            else:\n",
        "                answer.append(str2[j])\n",
        "                j -= 1 \n",
        "        return str1[:i + 1] + str2[:j + 1] + ''.join(answer[::-1])\n",
        "\n",
        "solution = Solution()\n",
        "res = solution.shortestCommonSupersequence(\"abac\", \"cab\")\n",
        "print(res)\n",
        "assert res == \"cabac\""
      ]
    }
  ]
}