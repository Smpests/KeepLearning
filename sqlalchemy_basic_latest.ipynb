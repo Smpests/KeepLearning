{
  "nbformat": 4,
  "nbformat_minor": 0,
  "metadata": {
    "colab": {
      "provenance": [],
      "authorship_tag": "ABX9TyPBKKiqNE5ISShT2KiGQvTq",
      "include_colab_link": true
    },
    "kernelspec": {
      "name": "python3",
      "display_name": "Python 3"
    },
    "language_info": {
      "name": "python"
    }
  },
  "cells": [
    {
      "cell_type": "markdown",
      "metadata": {
        "id": "view-in-github",
        "colab_type": "text"
      },
      "source": [
        "<a href=\"https://colab.research.google.com/github/Smpests/KeepLearning/blob/master/sqlalchemy_basic_latest.ipynb\" target=\"_parent\"><img src=\"https://colab.research.google.com/assets/colab-badge.svg\" alt=\"Open In Colab\"/></a>"
      ]
    },
    {
      "cell_type": "code",
      "execution_count": null,
      "metadata": {
        "id": "6TC3nOswc0lX"
      },
      "outputs": [],
      "source": [
        "from sqlalchemy import create_engine, Table, Column, Integer, String, DATETIME, Float, VARCHAR, TEXT, Index\n",
        "from sqlalchemy.orm import validates, column_property, declarative_base, Session, relationship, declarative_mixin, declared_attr, has_inherited_table\n",
        "\n",
        "# 声明共用列\n",
        "@declarative_mixin\n",
        "class TimestampMixin:\n",
        "  create_time = Column(DATETIME, default=func.now())\n",
        "  update_time = Column(DATETIME)\n",
        "\n",
        "# 继承之后，子类可以不写__tablename__属性，将使用类名小写作为表名\n",
        "@declarative_mixin\n",
        "class Tablename:\n",
        "  @declared_attr\n",
        "  def __tablename__(cls):\n",
        "    if has_inherited_table(cls):\n",
        "      return None\n",
        "    return cls.__name__.lower()\n",
        "\n",
        "# echo参数会打印回显到标准输出\n",
        "engine = create_engine(\"sqlite+pysqlite:///:memory:\", echo=True, future=True)\n",
        "Base = declarative_base()\n",
        "\n",
        "class User(TimestampMixin, Base):\n",
        "  __tablename__ = \"user\"\n",
        "\n",
        "  id = Column(Integer, primary_key=True, autoincrement=True)\n",
        "  name = Column(String(30), index=True, nullable=False, doc={\"zh\": \"名字\"})\n",
        "  fullname = Column(String(30))\n",
        "  # column_property可用于计算值，不会写到表里，表里也没有，无映射\n",
        "  lastname = column_property(f\"{name} {fullname}\")\n",
        "  email = Column(String)\n",
        "  \n",
        "  # relationship需要使用外键，不推荐\n",
        "  # addresses = relationship(\"Address\", back_populates=\"user\")\n",
        "  # Index(\"索引名称\", ...列名)\n",
        "  __table_args__ = (\n",
        "      Index(\"NAME_FULLNAME_INDEX\", \"name\", \"lastname\"), \n",
        "      #\"mysql_engine\": \"InnoDB\",\n",
        "      # \"schema\": \"some_schema\")\n",
        "  )\n",
        "\n",
        "  # 数据验证，还可以在删除时进行验证,include_remove=True\n",
        "  @validates(\"email\")\n",
        "  def validate_email(self, key, address):\n",
        "    if \"@\" not in address:\n",
        "      raise ValueError(\"failed email validation\")\n",
        "    return address\n",
        "\n",
        "  def __repr__(self):\n",
        "    # !r表示该表量调用其__repr__方法\n",
        "    return f\"User(id={self.id!r}, name={self.name!r}, fullname={self.fullname!r})\"\n",
        "\n",
        "class Address(TimestampMixin, Base):\n",
        "  __tablename__ = \"address\"\n",
        "\n",
        "  id = Column(Integer, primary_key=True, autoincrement=True)\n",
        "  name = Column(String)\n",
        "  # user = relationship(\"User\", back_populates=\"addresses\")\n",
        "\n",
        "\n",
        "sandy = User(name=\"sandy\", fullname=\"Sandu Cheeks\")\n",
        "print(sandy)\n",
        "# 创建所有Base子类的表\n",
        "Base.metadata.create_all(engine)"
      ]
    },
    {
      "cell_type": "code",
      "source": [
        "# insert demo\n",
        "from sqlalchemy import insert\n",
        "\n",
        "stmt = insert(User).values(name=\"spongebob\", fullname=\"Spongebob Squarepants\")\n",
        "with Session(engine) as session:\n",
        "  result1 = session.execute(stmt)\n",
        "  session.commit()\n",
        "\n",
        "print(result1.inserted_primary_key)\n",
        "\n"
      ],
      "metadata": {
        "colab": {
          "base_uri": "https://localhost:8080/"
        },
        "id": "Kji8sxam0lsI",
        "outputId": "40534b0f-67ba-4de7-83ee-442278044ca3"
      },
      "execution_count": 33,
      "outputs": [
        {
          "output_type": "stream",
          "name": "stdout",
          "text": [
            "2023-04-04 11:22:45,998 INFO sqlalchemy.engine.Engine BEGIN (implicit)\n"
          ]
        },
        {
          "output_type": "stream",
          "name": "stderr",
          "text": [
            "INFO:sqlalchemy.engine.Engine:BEGIN (implicit)\n"
          ]
        },
        {
          "output_type": "stream",
          "name": "stdout",
          "text": [
            "2023-04-04 11:22:46,003 INFO sqlalchemy.engine.Engine INSERT INTO user (name, fullname) VALUES (?, ?)\n"
          ]
        },
        {
          "output_type": "stream",
          "name": "stderr",
          "text": [
            "INFO:sqlalchemy.engine.Engine:INSERT INTO user (name, fullname) VALUES (?, ?)\n"
          ]
        },
        {
          "output_type": "stream",
          "name": "stdout",
          "text": [
            "2023-04-04 11:22:46,005 INFO sqlalchemy.engine.Engine [generated in 0.00244s] ('spongebob', 'Spongebob Squarepants')\n"
          ]
        },
        {
          "output_type": "stream",
          "name": "stderr",
          "text": [
            "INFO:sqlalchemy.engine.Engine:[generated in 0.00244s] ('spongebob', 'Spongebob Squarepants')\n"
          ]
        },
        {
          "output_type": "stream",
          "name": "stdout",
          "text": [
            "2023-04-04 11:22:46,008 INFO sqlalchemy.engine.Engine COMMIT\n"
          ]
        },
        {
          "output_type": "stream",
          "name": "stderr",
          "text": [
            "INFO:sqlalchemy.engine.Engine:COMMIT\n"
          ]
        },
        {
          "output_type": "stream",
          "name": "stdout",
          "text": [
            "(1,)\n"
          ]
        }
      ]
    },
    {
      "cell_type": "code",
      "source": [
        "# 插入多条数据\n",
        "with Session(engine) as session:\n",
        "  result2 = session.execute(\n",
        "      insert(User),\n",
        "      [\n",
        "          {\"name\": \"sandy\", \"fullname\": \"Sandy Cheek\"},\n",
        "          {\"name\": \"patrick\", \"fullname\": \"Parick Star\"},\n",
        "      ]\n",
        "  )\n",
        "  session.commit()"
      ],
      "metadata": {
        "colab": {
          "base_uri": "https://localhost:8080/"
        },
        "id": "Em9EOpyj81Ha",
        "outputId": "243127ed-ef9f-43b2-f629-e6ff4add24a9"
      },
      "execution_count": 34,
      "outputs": [
        {
          "output_type": "stream",
          "name": "stdout",
          "text": [
            "2023-04-04 11:22:52,761 INFO sqlalchemy.engine.Engine BEGIN (implicit)\n"
          ]
        },
        {
          "output_type": "stream",
          "name": "stderr",
          "text": [
            "INFO:sqlalchemy.engine.Engine:BEGIN (implicit)\n"
          ]
        },
        {
          "output_type": "stream",
          "name": "stdout",
          "text": [
            "2023-04-04 11:22:52,765 INFO sqlalchemy.engine.Engine INSERT INTO user (name, fullname) VALUES (?, ?)\n"
          ]
        },
        {
          "output_type": "stream",
          "name": "stderr",
          "text": [
            "INFO:sqlalchemy.engine.Engine:INSERT INTO user (name, fullname) VALUES (?, ?)\n"
          ]
        },
        {
          "output_type": "stream",
          "name": "stdout",
          "text": [
            "2023-04-04 11:22:52,766 INFO sqlalchemy.engine.Engine [generated in 0.00195s] (('sandy', 'Sandy Cheek'), ('patrick', 'Parick Star'))\n"
          ]
        },
        {
          "output_type": "stream",
          "name": "stderr",
          "text": [
            "INFO:sqlalchemy.engine.Engine:[generated in 0.00195s] (('sandy', 'Sandy Cheek'), ('patrick', 'Parick Star'))\n"
          ]
        },
        {
          "output_type": "stream",
          "name": "stdout",
          "text": [
            "2023-04-04 11:22:52,768 INFO sqlalchemy.engine.Engine COMMIT\n"
          ]
        },
        {
          "output_type": "stream",
          "name": "stderr",
          "text": [
            "INFO:sqlalchemy.engine.Engine:COMMIT\n"
          ]
        }
      ]
    },
    {
      "cell_type": "code",
      "source": [
        "from sqlalchemy import select\n",
        "# 查询\n",
        "with Session(engine) as session:\n",
        "  # 不指定table.column则输出全部\n",
        "  rows = session.execute(select(User.name, User.fullname)).first()\n",
        "  rows2 = session.query(User).where(User.id > 1).first()\n",
        "print(rows)\n",
        "print(rows2)"
      ],
      "metadata": {
        "colab": {
          "base_uri": "https://localhost:8080/"
        },
        "id": "2F0-inZK-MCf",
        "outputId": "1a7d6cf2-93b0-434f-82be-156d3c415936"
      },
      "execution_count": 45,
      "outputs": [
        {
          "output_type": "stream",
          "name": "stdout",
          "text": [
            "2023-04-04 11:54:42,910 INFO sqlalchemy.engine.Engine BEGIN (implicit)\n"
          ]
        },
        {
          "output_type": "stream",
          "name": "stderr",
          "text": [
            "INFO:sqlalchemy.engine.Engine:BEGIN (implicit)\n"
          ]
        },
        {
          "output_type": "stream",
          "name": "stdout",
          "text": [
            "2023-04-04 11:54:42,914 INFO sqlalchemy.engine.Engine SELECT user.name, user.fullname \n",
            "FROM user\n"
          ]
        },
        {
          "output_type": "stream",
          "name": "stderr",
          "text": [
            "INFO:sqlalchemy.engine.Engine:SELECT user.name, user.fullname \n",
            "FROM user\n"
          ]
        },
        {
          "output_type": "stream",
          "name": "stdout",
          "text": [
            "2023-04-04 11:54:42,920 INFO sqlalchemy.engine.Engine [cached since 1563s ago] ()\n"
          ]
        },
        {
          "output_type": "stream",
          "name": "stderr",
          "text": [
            "INFO:sqlalchemy.engine.Engine:[cached since 1563s ago] ()\n"
          ]
        },
        {
          "output_type": "stream",
          "name": "stdout",
          "text": [
            "2023-04-04 11:54:42,931 INFO sqlalchemy.engine.Engine SELECT user.id AS user_id, user.name AS user_name, user.create_time AS user_create_time, user.fullname AS user_fullname \n",
            "FROM user \n",
            "WHERE user.id > ?\n",
            " LIMIT ? OFFSET ?\n"
          ]
        },
        {
          "output_type": "stream",
          "name": "stderr",
          "text": [
            "INFO:sqlalchemy.engine.Engine:SELECT user.id AS user_id, user.name AS user_name, user.create_time AS user_create_time, user.fullname AS user_fullname \n",
            "FROM user \n",
            "WHERE user.id > ?\n",
            " LIMIT ? OFFSET ?\n"
          ]
        },
        {
          "output_type": "stream",
          "name": "stdout",
          "text": [
            "2023-04-04 11:54:42,933 INFO sqlalchemy.engine.Engine [generated in 0.00246s] (1, 1, 0)\n"
          ]
        },
        {
          "output_type": "stream",
          "name": "stderr",
          "text": [
            "INFO:sqlalchemy.engine.Engine:[generated in 0.00246s] (1, 1, 0)\n"
          ]
        },
        {
          "output_type": "stream",
          "name": "stdout",
          "text": [
            "2023-04-04 11:54:42,936 INFO sqlalchemy.engine.Engine ROLLBACK\n"
          ]
        },
        {
          "output_type": "stream",
          "name": "stderr",
          "text": [
            "INFO:sqlalchemy.engine.Engine:ROLLBACK\n"
          ]
        },
        {
          "output_type": "stream",
          "name": "stdout",
          "text": [
            "('patrick', 'Parick Star')\n",
            "User(id=2, name='sandy', fullname='Sandy Cheek')\n"
          ]
        }
      ]
    },
    {
      "cell_type": "code",
      "source": [
        "squidward = User(name=\"squidward\", fullname=\"Squidward Tentacles\")\n",
        "_session = Session(engine)\n",
        "_session.add(squidward)\n",
        "print(squidward.id)\n",
        "# flush之后就有id了\n",
        "_session.flush()\n",
        "print(squidward.id)\n",
        "# 不commit或者rollback，事务一直开启\n",
        "# session.commit()"
      ],
      "metadata": {
        "colab": {
          "base_uri": "https://localhost:8080/"
        },
        "id": "xbKbZjftJFYB",
        "outputId": "ce5bcb05-5662-45d9-a74d-b4f3dc53b068"
      },
      "execution_count": 46,
      "outputs": [
        {
          "output_type": "stream",
          "name": "stdout",
          "text": [
            "None\n",
            "2023-04-04 12:03:56,859 INFO sqlalchemy.engine.Engine BEGIN (implicit)\n"
          ]
        },
        {
          "output_type": "stream",
          "name": "stderr",
          "text": [
            "INFO:sqlalchemy.engine.Engine:BEGIN (implicit)\n"
          ]
        },
        {
          "output_type": "stream",
          "name": "stdout",
          "text": [
            "2023-04-04 12:03:56,864 INFO sqlalchemy.engine.Engine INSERT INTO user (name, create_time, fullname) VALUES (?, ?, ?)\n"
          ]
        },
        {
          "output_type": "stream",
          "name": "stderr",
          "text": [
            "INFO:sqlalchemy.engine.Engine:INSERT INTO user (name, create_time, fullname) VALUES (?, ?, ?)\n"
          ]
        },
        {
          "output_type": "stream",
          "name": "stdout",
          "text": [
            "2023-04-04 12:03:56,868 INFO sqlalchemy.engine.Engine [generated in 0.00396s] ('squidward', None, 'Squidward Tentacles')\n"
          ]
        },
        {
          "output_type": "stream",
          "name": "stderr",
          "text": [
            "INFO:sqlalchemy.engine.Engine:[generated in 0.00396s] ('squidward', None, 'Squidward Tentacles')\n"
          ]
        },
        {
          "output_type": "stream",
          "name": "stdout",
          "text": [
            "4\n"
          ]
        }
      ]
    },
    {
      "cell_type": "code",
      "source": [
        "# 使用func\n",
        "from sqlalchemy import func, select\n",
        "\n",
        "session.query(func.count(*))"
      ],
      "metadata": {
        "id": "sDoZn4uMkGRR"
      },
      "execution_count": null,
      "outputs": []
    },
    {
      "cell_type": "code",
      "source": [
        "# 更新数据\n",
        "sandy = session.execute(select(User).filter_by(name=\"sandy\")).scalar_one()\n",
        "print(sandy)\n",
        "\n",
        "sandy.fullname = \"Sandy Update\"\n",
        "# sandy更改过之后会被标记为dirty\n",
        "print(sandy in session.dirty)\n",
        "# 执行flush()或者任意查询都会自动flush一次\n",
        "# session.flush()\n",
        "# 返回的将是修改后的值\n",
        "new_sandy = session.query(User).where(User.id == 2).scalar()\n",
        "print(new_sandy)\n",
        "print(sandy in session.dirty)\n"
      ],
      "metadata": {
        "colab": {
          "base_uri": "https://localhost:8080/"
        },
        "id": "EiokRYR3LgbU",
        "outputId": "a25da83f-6d7e-47d2-ae2a-6d72abbaf340"
      },
      "execution_count": 52,
      "outputs": [
        {
          "output_type": "stream",
          "name": "stdout",
          "text": [
            "2023-04-04 13:00:56,957 INFO sqlalchemy.engine.Engine SELECT user.id, user.name, user.create_time, user.fullname \n",
            "FROM user \n",
            "WHERE user.name = ?\n"
          ]
        },
        {
          "output_type": "stream",
          "name": "stderr",
          "text": [
            "INFO:sqlalchemy.engine.Engine:SELECT user.id, user.name, user.create_time, user.fullname \n",
            "FROM user \n",
            "WHERE user.name = ?\n"
          ]
        },
        {
          "output_type": "stream",
          "name": "stdout",
          "text": [
            "2023-04-04 13:00:56,963 INFO sqlalchemy.engine.Engine [cached since 2938s ago] ('sandy',)\n"
          ]
        },
        {
          "output_type": "stream",
          "name": "stderr",
          "text": [
            "INFO:sqlalchemy.engine.Engine:[cached since 2938s ago] ('sandy',)\n"
          ]
        },
        {
          "output_type": "stream",
          "name": "stdout",
          "text": [
            "User(id=2, name='sandy', fullname='Sandy Sample')\n",
            "True\n",
            "2023-04-04 13:00:56,972 INFO sqlalchemy.engine.Engine UPDATE user SET fullname=? WHERE user.id = ?\n"
          ]
        },
        {
          "output_type": "stream",
          "name": "stderr",
          "text": [
            "INFO:sqlalchemy.engine.Engine:UPDATE user SET fullname=? WHERE user.id = ?\n"
          ]
        },
        {
          "output_type": "stream",
          "name": "stdout",
          "text": [
            "2023-04-04 13:00:56,976 INFO sqlalchemy.engine.Engine [cached since 50.98s ago] ('Sandy Update', 2)\n"
          ]
        },
        {
          "output_type": "stream",
          "name": "stderr",
          "text": [
            "INFO:sqlalchemy.engine.Engine:[cached since 50.98s ago] ('Sandy Update', 2)\n"
          ]
        },
        {
          "output_type": "stream",
          "name": "stdout",
          "text": [
            "2023-04-04 13:00:56,982 INFO sqlalchemy.engine.Engine SELECT user.id AS user_id, user.name AS user_name, user.create_time AS user_create_time, user.fullname AS user_fullname \n",
            "FROM user \n",
            "WHERE user.id = ?\n"
          ]
        },
        {
          "output_type": "stream",
          "name": "stderr",
          "text": [
            "INFO:sqlalchemy.engine.Engine:SELECT user.id AS user_id, user.name AS user_name, user.create_time AS user_create_time, user.fullname AS user_fullname \n",
            "FROM user \n",
            "WHERE user.id = ?\n"
          ]
        },
        {
          "output_type": "stream",
          "name": "stdout",
          "text": [
            "2023-04-04 13:00:56,984 INFO sqlalchemy.engine.Engine [cached since 33.6s ago] (2,)\n"
          ]
        },
        {
          "output_type": "stream",
          "name": "stderr",
          "text": [
            "INFO:sqlalchemy.engine.Engine:[cached since 33.6s ago] (2,)\n"
          ]
        },
        {
          "output_type": "stream",
          "name": "stdout",
          "text": [
            "User(id=2, name='sandy', fullname='Sandy Update')\n",
            "False\n"
          ]
        }
      ]
    },
    {
      "cell_type": "code",
      "source": [
        "from sqlalchemy import update, delete\n",
        "session.execute(update(User).where(User.id == 2).values(fullname=\"Sandy Azure\"))\n",
        "# 更新之后之前的绑定对象也会改变\n",
        "print(sandy)"
      ],
      "metadata": {
        "colab": {
          "base_uri": "https://localhost:8080/"
        },
        "id": "u4PnXR3FW5iz",
        "outputId": "735f938f-356e-492a-803e-d086949ea03a"
      },
      "execution_count": 54,
      "outputs": [
        {
          "output_type": "stream",
          "name": "stdout",
          "text": [
            "2023-04-04 13:06:36,167 INFO sqlalchemy.engine.Engine UPDATE user SET fullname=? WHERE user.id = ?\n"
          ]
        },
        {
          "output_type": "stream",
          "name": "stderr",
          "text": [
            "INFO:sqlalchemy.engine.Engine:UPDATE user SET fullname=? WHERE user.id = ?\n"
          ]
        },
        {
          "output_type": "stream",
          "name": "stdout",
          "text": [
            "2023-04-04 13:06:36,174 INFO sqlalchemy.engine.Engine [generated in 0.00634s] ('Sandy Azure', 2)\n"
          ]
        },
        {
          "output_type": "stream",
          "name": "stderr",
          "text": [
            "INFO:sqlalchemy.engine.Engine:[generated in 0.00634s] ('Sandy Azure', 2)\n"
          ]
        },
        {
          "output_type": "stream",
          "name": "stdout",
          "text": [
            "User(id=2, name='sandy', fullname='Sandy Azure')\n"
          ]
        }
      ]
    },
    {
      "cell_type": "code",
      "source": [
        "# get()函数通过主键获取数据\n",
        "patrick = session.get(User, 3)\n",
        "print(patrick)\n",
        "print(patrick in session)\n",
        "# 删除数据\n",
        "session.delete(patrick)\n",
        "# session.execute(delete(User).where(User.id == 3))\n",
        "session.query(User).where(User.name == \"patrick\").first()\n",
        "print(patrick)\n",
        "print(patrick in session)\n"
      ],
      "metadata": {
        "colab": {
          "base_uri": "https://localhost:8080/"
        },
        "id": "-2LZEaGiYaCg",
        "outputId": "fbc1afc9-3b74-4577-c034-5ca68a6cc30e"
      },
      "execution_count": 62,
      "outputs": [
        {
          "output_type": "stream",
          "name": "stdout",
          "text": [
            "User(id=3, name='patrick', fullname='Parick Star')\n",
            "True\n",
            "2023-04-04 13:13:02,171 INFO sqlalchemy.engine.Engine DELETE FROM user WHERE user.id = ?\n"
          ]
        },
        {
          "output_type": "stream",
          "name": "stderr",
          "text": [
            "INFO:sqlalchemy.engine.Engine:DELETE FROM user WHERE user.id = ?\n"
          ]
        },
        {
          "output_type": "stream",
          "name": "stdout",
          "text": [
            "2023-04-04 13:13:02,178 INFO sqlalchemy.engine.Engine [cached since 127.7s ago] (3,)\n"
          ]
        },
        {
          "output_type": "stream",
          "name": "stderr",
          "text": [
            "INFO:sqlalchemy.engine.Engine:[cached since 127.7s ago] (3,)\n"
          ]
        },
        {
          "output_type": "stream",
          "name": "stdout",
          "text": [
            "2023-04-04 13:13:02,181 INFO sqlalchemy.engine.Engine SELECT user.id AS user_id, user.name AS user_name, user.create_time AS user_create_time, user.fullname AS user_fullname \n",
            "FROM user \n",
            "WHERE user.name = ?\n",
            " LIMIT ? OFFSET ?\n"
          ]
        },
        {
          "output_type": "stream",
          "name": "stderr",
          "text": [
            "<ipython-input-62-880df1e16a3f>:7: SAWarning: DELETE statement on table 'user' expected to delete 1 row(s); 0 were matched.  Please set confirm_deleted_rows=False within the mapper configuration to prevent this warning.\n",
            "  session.query(User).where(User.name == \"patrick\").first()\n",
            "INFO:sqlalchemy.engine.Engine:SELECT user.id AS user_id, user.name AS user_name, user.create_time AS user_create_time, user.fullname AS user_fullname \n",
            "FROM user \n",
            "WHERE user.name = ?\n",
            " LIMIT ? OFFSET ?\n"
          ]
        },
        {
          "output_type": "stream",
          "name": "stdout",
          "text": [
            "2023-04-04 13:13:02,185 INFO sqlalchemy.engine.Engine [cached since 44.81s ago] ('patrick', 1, 0)\n"
          ]
        },
        {
          "output_type": "stream",
          "name": "stderr",
          "text": [
            "INFO:sqlalchemy.engine.Engine:[cached since 44.81s ago] ('patrick', 1, 0)\n"
          ]
        },
        {
          "output_type": "stream",
          "name": "stdout",
          "text": [
            "User(id=3, name='patrick', fullname='Parick Star')\n",
            "False\n"
          ]
        }
      ]
    },
    {
      "cell_type": "code",
      "source": [
        "# 执行rollback上面进行的update和delete操作都会回退\n",
        "session.rollback()\n",
        "print(sandy)\n",
        "print(patrick in session)"
      ],
      "metadata": {
        "colab": {
          "base_uri": "https://localhost:8080/"
        },
        "id": "6317bDD3Z3Yl",
        "outputId": "f0a2a188-298a-4097-e7e7-9d5ff8863cbe"
      },
      "execution_count": 63,
      "outputs": [
        {
          "output_type": "stream",
          "name": "stdout",
          "text": [
            "2023-04-04 13:15:20,867 INFO sqlalchemy.engine.Engine ROLLBACK\n"
          ]
        },
        {
          "output_type": "stream",
          "name": "stderr",
          "text": [
            "INFO:sqlalchemy.engine.Engine:ROLLBACK\n"
          ]
        },
        {
          "output_type": "stream",
          "name": "stdout",
          "text": [
            "2023-04-04 13:15:20,875 INFO sqlalchemy.engine.Engine BEGIN (implicit)\n"
          ]
        },
        {
          "output_type": "stream",
          "name": "stderr",
          "text": [
            "INFO:sqlalchemy.engine.Engine:BEGIN (implicit)\n"
          ]
        },
        {
          "output_type": "stream",
          "name": "stdout",
          "text": [
            "2023-04-04 13:15:20,881 INFO sqlalchemy.engine.Engine SELECT user.id AS user_id, user.name AS user_name, user.create_time AS user_create_time, user.fullname AS user_fullname \n",
            "FROM user \n",
            "WHERE user.id = ?\n"
          ]
        },
        {
          "output_type": "stream",
          "name": "stderr",
          "text": [
            "INFO:sqlalchemy.engine.Engine:SELECT user.id AS user_id, user.name AS user_name, user.create_time AS user_create_time, user.fullname AS user_fullname \n",
            "FROM user \n",
            "WHERE user.id = ?\n"
          ]
        },
        {
          "output_type": "stream",
          "name": "stdout",
          "text": [
            "2023-04-04 13:15:20,885 INFO sqlalchemy.engine.Engine [generated in 0.00313s] (2,)\n"
          ]
        },
        {
          "output_type": "stream",
          "name": "stderr",
          "text": [
            "INFO:sqlalchemy.engine.Engine:[generated in 0.00313s] (2,)\n"
          ]
        },
        {
          "output_type": "stream",
          "name": "stdout",
          "text": [
            "User(id=2, name='sandy', fullname='Sandy Cheek')\n",
            "True\n"
          ]
        }
      ]
    },
    {
      "cell_type": "code",
      "source": [
        "# 操作完毕后关闭session，可以用with关键字自动关闭\n",
        "print(sandy in session)\n",
        "# close时会执行rollback\n",
        "session.close()\n",
        "print(sandy in session)\n"
      ],
      "metadata": {
        "colab": {
          "base_uri": "https://localhost:8080/"
        },
        "id": "GgALhji3aNOY",
        "outputId": "790409af-0149-4a56-b456-97c2c6b5d048"
      },
      "execution_count": 64,
      "outputs": [
        {
          "output_type": "stream",
          "name": "stdout",
          "text": [
            "True\n",
            "2023-04-04 13:28:55,776 INFO sqlalchemy.engine.Engine ROLLBACK\n"
          ]
        },
        {
          "output_type": "stream",
          "name": "stderr",
          "text": [
            "INFO:sqlalchemy.engine.Engine:ROLLBACK\n"
          ]
        },
        {
          "output_type": "stream",
          "name": "stdout",
          "text": [
            "False\n"
          ]
        }
      ]
    },
    {
      "cell_type": "code",
      "source": [
        "# 重新绑定\n",
        "session.add(sandy)\n",
        "sandy.name\n",
        "# session关闭后未绑定的ORM实例将无法获取值\n",
        "patrick.name"
      ],
      "metadata": {
        "id": "WumZ4LL3dXMz"
      },
      "execution_count": null,
      "outputs": []
    }
  ]
}